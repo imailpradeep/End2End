{
 "cells": [
  {
   "cell_type": "markdown",
   "metadata": {},
   "source": [
    "# How does merge, fillna work - change values"
   ]
  },
  {
   "cell_type": "code",
   "execution_count": 2,
   "metadata": {},
   "outputs": [
    {
     "ename": "NameError",
     "evalue": "name 'pd' is not defined",
     "output_type": "error",
     "traceback": [
      "\u001b[0;31m---------------------------------------------------------------------------\u001b[0m",
      "\u001b[0;31mNameError\u001b[0m                                 Traceback (most recent call last)",
      "Cell \u001b[0;32mIn[2], line 14\u001b[0m\n\u001b[1;32m      8\u001b[0m data0 \u001b[38;5;241m=\u001b[39m {\u001b[38;5;124m'\u001b[39m\u001b[38;5;124mkey\u001b[39m\u001b[38;5;124m'\u001b[39m: [\u001b[38;5;124m'\u001b[39m\u001b[38;5;124mK0\u001b[39m\u001b[38;5;124m'\u001b[39m, \u001b[38;5;124m'\u001b[39m\u001b[38;5;124mK1\u001b[39m\u001b[38;5;124m'\u001b[39m, \u001b[38;5;124m'\u001b[39m\u001b[38;5;124mK2\u001b[39m\u001b[38;5;124m'\u001b[39m, \u001b[38;5;124m'\u001b[39m\u001b[38;5;124mK1\u001b[39m\u001b[38;5;124m'\u001b[39m],\n\u001b[1;32m      9\u001b[0m          \u001b[38;5;124m'\u001b[39m\u001b[38;5;124mkey1\u001b[39m\u001b[38;5;124m'\u001b[39m: [\u001b[38;5;124m'\u001b[39m\u001b[38;5;124mK0\u001b[39m\u001b[38;5;124m'\u001b[39m, \u001b[38;5;124m'\u001b[39m\u001b[38;5;124mK0\u001b[39m\u001b[38;5;124m'\u001b[39m, \u001b[38;5;124m'\u001b[39m\u001b[38;5;124mK0\u001b[39m\u001b[38;5;124m'\u001b[39m, \u001b[38;5;124m'\u001b[39m\u001b[38;5;124mK0\u001b[39m\u001b[38;5;124m'\u001b[39m],\n\u001b[1;32m     10\u001b[0m          \u001b[38;5;124m'\u001b[39m\u001b[38;5;124mAddress\u001b[39m\u001b[38;5;124m'\u001b[39m:[\u001b[38;5;124m'\u001b[39m\u001b[38;5;124mNagpur\u001b[39m\u001b[38;5;124m'\u001b[39m, \u001b[38;5;124m'\u001b[39m\u001b[38;5;124mKanpur\u001b[39m\u001b[38;5;124m'\u001b[39m, \u001b[38;5;124m'\u001b[39m\u001b[38;5;124mAllahabad\u001b[39m\u001b[38;5;124m'\u001b[39m, \u001b[38;5;124m'\u001b[39m\u001b[38;5;124mKannuaj\u001b[39m\u001b[38;5;124m'\u001b[39m], \n\u001b[1;32m     11\u001b[0m         \u001b[38;5;124m'\u001b[39m\u001b[38;5;124mQualification\u001b[39m\u001b[38;5;124m'\u001b[39m:[\u001b[38;5;124m'\u001b[39m\u001b[38;5;124mBtech\u001b[39m\u001b[38;5;124m'\u001b[39m, \u001b[38;5;124m'\u001b[39m\u001b[38;5;124mB.A\u001b[39m\u001b[38;5;124m'\u001b[39m, \u001b[38;5;124m'\u001b[39m\u001b[38;5;124mBcom\u001b[39m\u001b[38;5;124m'\u001b[39m, \u001b[38;5;124m'\u001b[39m\u001b[38;5;124mB.hons\u001b[39m\u001b[38;5;124m'\u001b[39m]} \n\u001b[1;32m     13\u001b[0m \u001b[38;5;66;03m# Convert the dictionary into DataFrame  \u001b[39;00m\n\u001b[0;32m---> 14\u001b[0m df1 \u001b[38;5;241m=\u001b[39m \u001b[43mpd\u001b[49m\u001b[38;5;241m.\u001b[39mDataFrame(data1)\n\u001b[1;32m     16\u001b[0m \u001b[38;5;66;03m# Convert the dictionary into DataFrame  \u001b[39;00m\n\u001b[1;32m     17\u001b[0m df0 \u001b[38;5;241m=\u001b[39m pd\u001b[38;5;241m.\u001b[39mDataFrame(data0) \n",
      "\u001b[0;31mNameError\u001b[0m: name 'pd' is not defined"
     ]
    }
   ],
   "source": [
    "\n",
    "# Define a dictionary containing employee data \n",
    "data1 = {'key': ['K0', 'K1', 'K2', 'K3'],\n",
    "         'key1': ['K1', 'K1', 'K1', 'K1'],\n",
    "         'Name':['Jai', 'Princi', 'Gaurav', 'Anuj'], \n",
    "        'Age':[27, 24, 22, 32],} \n",
    "   \n",
    "# Define a dictionary containing employee data \n",
    "data0 = {'key': ['K0', 'K1', 'K2', 'K1'],\n",
    "         'key1': ['K0', 'K0', 'K0', 'K0'],\n",
    "         'Address':['Nagpur', 'Kanpur', 'Allahabad', 'Kannuaj'], \n",
    "        'Qualification':['Btech', 'B.A', 'Bcom', 'B.hons']} \n",
    " \n",
    "# Convert the dictionary into DataFrame  \n",
    "df1 = pd.DataFrame(data1)\n",
    " \n",
    "# Convert the dictionary into DataFrame  \n",
    "df0 = pd.DataFrame(data0) \n",
    "\n",
    "res = pd.merge(df0, df1, how='outer', on=['key'])\n",
    " \n",
    "res"
   ]
  },
  {
   "cell_type": "code",
   "execution_count": null,
   "metadata": {},
   "outputs": [
    {
     "data": {
      "text/html": [
       "<div>\n",
       "<style scoped>\n",
       "    .dataframe tbody tr th:only-of-type {\n",
       "        vertical-align: middle;\n",
       "    }\n",
       "\n",
       "    .dataframe tbody tr th {\n",
       "        vertical-align: top;\n",
       "    }\n",
       "\n",
       "    .dataframe thead th {\n",
       "        text-align: right;\n",
       "    }\n",
       "</style>\n",
       "<table border=\"1\" class=\"dataframe\">\n",
       "  <thead>\n",
       "    <tr style=\"text-align: right;\">\n",
       "      <th></th>\n",
       "      <th>A</th>\n",
       "      <th>B</th>\n",
       "      <th>C</th>\n",
       "      <th>D</th>\n",
       "    </tr>\n",
       "  </thead>\n",
       "  <tbody>\n",
       "    <tr>\n",
       "      <th>0</th>\n",
       "      <td>How</td>\n",
       "      <td>2.0</td>\n",
       "      <td>NaN</td>\n",
       "      <td>0.0</td>\n",
       "    </tr>\n",
       "    <tr>\n",
       "      <th>1</th>\n",
       "      <td>3.0</td>\n",
       "      <td>4.0</td>\n",
       "      <td>NaN</td>\n",
       "      <td>1.0</td>\n",
       "    </tr>\n",
       "    <tr>\n",
       "      <th>2</th>\n",
       "      <td>How</td>\n",
       "      <td>1.0</td>\n",
       "      <td>NaN</td>\n",
       "      <td>NaN</td>\n",
       "    </tr>\n",
       "    <tr>\n",
       "      <th>3</th>\n",
       "      <td>How</td>\n",
       "      <td>3.0</td>\n",
       "      <td>NaN</td>\n",
       "      <td>4.0</td>\n",
       "    </tr>\n",
       "  </tbody>\n",
       "</table>\n",
       "</div>"
      ],
      "text/plain": [
       "     A    B   C    D\n",
       "0  How  2.0 NaN  0.0\n",
       "1  3.0  4.0 NaN  1.0\n",
       "2  How  1.0 NaN  NaN\n",
       "3  How  3.0 NaN  4.0"
      ]
     },
     "execution_count": 110,
     "metadata": {},
     "output_type": "execute_result"
    }
   ],
   "source": [
    "df = pd.DataFrame([[np.nan, 2, np.nan, 0],\n",
    "                   [3, 4, np.nan, 1],\n",
    "                   [np.nan, np.nan, np.nan, np.nan],\n",
    "                   [np.nan, 3, np.nan, 4]],\n",
    "                  columns=list(\"ABCD\"))\n",
    "values = {\"A\": \"How\", \"B\": 1}\n",
    "df.fillna(value = values, inplace = True)\n",
    "df"
   ]
  },
  {
   "cell_type": "markdown",
   "metadata": {},
   "source": [
    "# Merge all df to one df"
   ]
  },
  {
   "cell_type": "code",
   "execution_count": 3,
   "metadata": {},
   "outputs": [
    {
     "name": "stdout",
     "output_type": "stream",
     "text": [
      "['df_olist_geolocation_dataset.csv', 'df_olist_orders_dataset.csv', 'df_product_category_name_translation.csv', 'df_olist_customers_dataset.csv', 'df_olist_products_dataset.csv', 'df_olist_order_reviews_dataset.csv', 'df_olist_order_payments_dataset.csv', 'df_olist_sellers_dataset.csv', 'df_olist_order_items_dataset.csv']\n"
     ]
    }
   ],
   "source": [
    "from main import *\n",
    "import pandas as pd\n",
    "import numpy as np\n",
    "from matplotlib import pyplot as plt\n",
    "import seaborn as sns"
   ]
  },
  {
   "cell_type": "code",
   "execution_count": 4,
   "metadata": {},
   "outputs": [
    {
     "data": {
      "text/plain": [
       "[Index(['geolocation_zip_code_prefix', 'geolocation_lat', 'geolocation_lng',\n",
       "        'geolocation_city', 'geolocation_state'],\n",
       "       dtype='object'),\n",
       " Index(['order_id', 'customer_id', 'order_status', 'order_purchase_timestamp',\n",
       "        'order_approved_at', 'order_delivered_carrier_date',\n",
       "        'order_delivered_customer_date', 'order_estimated_delivery_date'],\n",
       "       dtype='object'),\n",
       " Index(['product_category_name', 'product_category_name_english'], dtype='object'),\n",
       " Index(['customer_id', 'customer_unique_id', 'customer_zip_code_prefix',\n",
       "        'customer_city', 'customer_state'],\n",
       "       dtype='object'),\n",
       " Index(['product_id', 'product_category_name', 'product_name_lenght',\n",
       "        'product_description_lenght', 'product_photos_qty', 'product_weight_g',\n",
       "        'product_length_cm', 'product_height_cm', 'product_width_cm'],\n",
       "       dtype='object'),\n",
       " Index(['review_id', 'order_id', 'review_score', 'review_comment_title',\n",
       "        'review_comment_message', 'review_creation_date',\n",
       "        'review_answer_timestamp'],\n",
       "       dtype='object'),\n",
       " Index(['order_id', 'payment_sequential', 'payment_type',\n",
       "        'payment_installments', 'payment_value'],\n",
       "       dtype='object'),\n",
       " Index(['seller_id', 'seller_zip_code_prefix', 'seller_city', 'seller_state'], dtype='object'),\n",
       " Index(['order_id', 'order_item_id', 'product_id', 'seller_id',\n",
       "        'shipping_limit_date', 'price', 'freight_value'],\n",
       "       dtype='object')]"
      ]
     },
     "execution_count": 4,
     "metadata": {},
     "output_type": "execute_result"
    }
   ],
   "source": [
    "# get a list of all the column names in all the dataframes we downloaded from mongoDB \n",
    "all_columns = []\n",
    "for i in range(len(df_list)):\n",
    "    all_columns.append(df_list[i].columns)\n",
    "all_columns"
   ]
  },
  {
   "cell_type": "code",
   "execution_count": 5,
   "metadata": {},
   "outputs": [
    {
     "data": {
      "text/plain": [
       "Index(['order_id', 'customer_id', 'order_status', 'order_purchase_timestamp',\n",
       "       'order_approved_at', 'order_delivered_carrier_date',\n",
       "       'order_delivered_customer_date', 'order_estimated_delivery_date',\n",
       "       'review_id', 'review_score', 'review_comment_title',\n",
       "       'review_comment_message', 'review_creation_date',\n",
       "       'review_answer_timestamp', 'payment_sequential', 'payment_type',\n",
       "       'payment_installments', 'payment_value', 'order_item_id', 'product_id',\n",
       "       'seller_id', 'shipping_limit_date', 'price', 'freight_value',\n",
       "       'customer_unique_id', 'customer_zip_code_prefix', 'customer_city',\n",
       "       'customer_state', 'product_category_name', 'product_name_lenght',\n",
       "       'product_description_lenght', 'product_photos_qty', 'product_weight_g',\n",
       "       'product_length_cm', 'product_height_cm', 'product_width_cm',\n",
       "       'seller_zip_code_prefix', 'seller_city', 'seller_state'],\n",
       "      dtype='object')"
      ]
     },
     "execution_count": 5,
     "metadata": {},
     "output_type": "execute_result"
    }
   ],
   "source": [
    "#read the column names and merge them using common keys and full outer join so as not to loose any information but drawback is that full outer join will introduce NaNs\n",
    "\n",
    "final_df = pd.merge(df_list[1], df_list[5], on = \"order_id\", how = \"outer\")\n",
    "final_df = pd.merge(final_df, df_list[6], on = \"order_id\", how = \"outer\")\n",
    "final_df = pd.merge(final_df, df_list[8], on = \"order_id\", how = \"outer\")\n",
    "final_df = pd.merge(final_df, df_list[3], on = \"customer_id\", how = \"outer\")\n",
    "final_df = pd.merge(final_df, df_list[4], on = \"product_id\", how = \"outer\")\n",
    "final_df = pd.merge(final_df, df_list[7], on = \"seller_id\", how = \"outer\")\n",
    "final_df.columns"
   ]
  },
  {
   "cell_type": "code",
   "execution_count": 6,
   "metadata": {},
   "outputs": [
    {
     "data": {
      "text/html": [
       "<div>\n",
       "<style scoped>\n",
       "    .dataframe tbody tr th:only-of-type {\n",
       "        vertical-align: middle;\n",
       "    }\n",
       "\n",
       "    .dataframe tbody tr th {\n",
       "        vertical-align: top;\n",
       "    }\n",
       "\n",
       "    .dataframe thead th {\n",
       "        text-align: right;\n",
       "    }\n",
       "</style>\n",
       "<table border=\"1\" class=\"dataframe\">\n",
       "  <thead>\n",
       "    <tr style=\"text-align: right;\">\n",
       "      <th></th>\n",
       "      <th>geolocation_zip_code_prefix</th>\n",
       "      <th>geolocation_lat</th>\n",
       "      <th>geolocation_lng</th>\n",
       "      <th>geolocation_city</th>\n",
       "      <th>geolocation_state</th>\n",
       "    </tr>\n",
       "  </thead>\n",
       "  <tbody>\n",
       "    <tr>\n",
       "      <th>0</th>\n",
       "      <td>1037</td>\n",
       "      <td>-23.545621</td>\n",
       "      <td>-46.639292</td>\n",
       "      <td>sao paulo</td>\n",
       "      <td>SP</td>\n",
       "    </tr>\n",
       "    <tr>\n",
       "      <th>1</th>\n",
       "      <td>1046</td>\n",
       "      <td>-23.546081</td>\n",
       "      <td>-46.644820</td>\n",
       "      <td>sao paulo</td>\n",
       "      <td>SP</td>\n",
       "    </tr>\n",
       "    <tr>\n",
       "      <th>2</th>\n",
       "      <td>1046</td>\n",
       "      <td>-23.546129</td>\n",
       "      <td>-46.642951</td>\n",
       "      <td>sao paulo</td>\n",
       "      <td>SP</td>\n",
       "    </tr>\n",
       "    <tr>\n",
       "      <th>3</th>\n",
       "      <td>1041</td>\n",
       "      <td>-23.544392</td>\n",
       "      <td>-46.639499</td>\n",
       "      <td>sao paulo</td>\n",
       "      <td>SP</td>\n",
       "    </tr>\n",
       "    <tr>\n",
       "      <th>4</th>\n",
       "      <td>1035</td>\n",
       "      <td>-23.541578</td>\n",
       "      <td>-46.641607</td>\n",
       "      <td>sao paulo</td>\n",
       "      <td>SP</td>\n",
       "    </tr>\n",
       "  </tbody>\n",
       "</table>\n",
       "</div>"
      ],
      "text/plain": [
       "   geolocation_zip_code_prefix  geolocation_lat  geolocation_lng  \\\n",
       "0                         1037       -23.545621       -46.639292   \n",
       "1                         1046       -23.546081       -46.644820   \n",
       "2                         1046       -23.546129       -46.642951   \n",
       "3                         1041       -23.544392       -46.639499   \n",
       "4                         1035       -23.541578       -46.641607   \n",
       "\n",
       "  geolocation_city geolocation_state  \n",
       "0        sao paulo                SP  \n",
       "1        sao paulo                SP  \n",
       "2        sao paulo                SP  \n",
       "3        sao paulo                SP  \n",
       "4        sao paulo                SP  "
      ]
     },
     "execution_count": 6,
     "metadata": {},
     "output_type": "execute_result"
    }
   ],
   "source": [
    "# not concatenating this as it will introduce NaN without adding much value unless we wish to need data for lattitude and longitude \n",
    "df_list[0].head()"
   ]
  },
  {
   "cell_type": "code",
   "execution_count": 7,
   "metadata": {},
   "outputs": [
    {
     "data": {
      "text/html": [
       "<div>\n",
       "<style scoped>\n",
       "    .dataframe tbody tr th:only-of-type {\n",
       "        vertical-align: middle;\n",
       "    }\n",
       "\n",
       "    .dataframe tbody tr th {\n",
       "        vertical-align: top;\n",
       "    }\n",
       "\n",
       "    .dataframe thead th {\n",
       "        text-align: right;\n",
       "    }\n",
       "</style>\n",
       "<table border=\"1\" class=\"dataframe\">\n",
       "  <thead>\n",
       "    <tr style=\"text-align: right;\">\n",
       "      <th></th>\n",
       "      <th>product_category_name</th>\n",
       "      <th>product_category_name_english</th>\n",
       "    </tr>\n",
       "  </thead>\n",
       "  <tbody>\n",
       "    <tr>\n",
       "      <th>0</th>\n",
       "      <td>beleza_saude</td>\n",
       "      <td>health_beauty</td>\n",
       "    </tr>\n",
       "    <tr>\n",
       "      <th>1</th>\n",
       "      <td>informatica_acessorios</td>\n",
       "      <td>computers_accessories</td>\n",
       "    </tr>\n",
       "    <tr>\n",
       "      <th>2</th>\n",
       "      <td>automotivo</td>\n",
       "      <td>auto</td>\n",
       "    </tr>\n",
       "    <tr>\n",
       "      <th>3</th>\n",
       "      <td>cama_mesa_banho</td>\n",
       "      <td>bed_bath_table</td>\n",
       "    </tr>\n",
       "    <tr>\n",
       "      <th>4</th>\n",
       "      <td>moveis_decoracao</td>\n",
       "      <td>furniture_decor</td>\n",
       "    </tr>\n",
       "  </tbody>\n",
       "</table>\n",
       "</div>"
      ],
      "text/plain": [
       "    product_category_name product_category_name_english\n",
       "0            beleza_saude                 health_beauty\n",
       "1  informatica_acessorios         computers_accessories\n",
       "2              automotivo                          auto\n",
       "3         cama_mesa_banho                bed_bath_table\n",
       "4        moveis_decoracao               furniture_decor"
      ]
     },
     "execution_count": 7,
     "metadata": {},
     "output_type": "execute_result"
    }
   ],
   "source": [
    "# not concatenating this dataframe as it would not add value at present but only add NaN\n",
    "df_list[2].head()"
   ]
  },
  {
   "cell_type": "markdown",
   "metadata": {},
   "source": [
    "# EDA"
   ]
  },
  {
   "cell_type": "code",
   "execution_count": 8,
   "metadata": {},
   "outputs": [
    {
     "data": {
      "text/html": [
       "<div>\n",
       "<style scoped>\n",
       "    .dataframe tbody tr th:only-of-type {\n",
       "        vertical-align: middle;\n",
       "    }\n",
       "\n",
       "    .dataframe tbody tr th {\n",
       "        vertical-align: top;\n",
       "    }\n",
       "\n",
       "    .dataframe thead th {\n",
       "        text-align: right;\n",
       "    }\n",
       "</style>\n",
       "<table border=\"1\" class=\"dataframe\">\n",
       "  <thead>\n",
       "    <tr style=\"text-align: right;\">\n",
       "      <th></th>\n",
       "      <th>order_id</th>\n",
       "      <th>customer_id</th>\n",
       "      <th>order_status</th>\n",
       "      <th>order_purchase_timestamp</th>\n",
       "      <th>order_approved_at</th>\n",
       "      <th>order_delivered_carrier_date</th>\n",
       "      <th>order_delivered_customer_date</th>\n",
       "      <th>order_estimated_delivery_date</th>\n",
       "      <th>review_id</th>\n",
       "      <th>review_score</th>\n",
       "      <th>...</th>\n",
       "      <th>product_name_lenght</th>\n",
       "      <th>product_description_lenght</th>\n",
       "      <th>product_photos_qty</th>\n",
       "      <th>product_weight_g</th>\n",
       "      <th>product_length_cm</th>\n",
       "      <th>product_height_cm</th>\n",
       "      <th>product_width_cm</th>\n",
       "      <th>seller_zip_code_prefix</th>\n",
       "      <th>seller_city</th>\n",
       "      <th>seller_state</th>\n",
       "    </tr>\n",
       "  </thead>\n",
       "  <tbody>\n",
       "    <tr>\n",
       "      <th>1000</th>\n",
       "      <td>a7a423a542937b74dff48feaf2dd1126</td>\n",
       "      <td>247a290f66ea274a4e123ba15e1b086c</td>\n",
       "      <td>delivered</td>\n",
       "      <td>2017-07-21 19:03:50</td>\n",
       "      <td>2017-07-21 19:15:12</td>\n",
       "      <td>2017-07-24 14:47:27</td>\n",
       "      <td>2017-08-28 19:46:34</td>\n",
       "      <td>2017-08-18 00:00:00</td>\n",
       "      <td>e5db1be774e0342f0998a113baf22db5</td>\n",
       "      <td>1.0</td>\n",
       "      <td>...</td>\n",
       "      <td>33.0</td>\n",
       "      <td>523.0</td>\n",
       "      <td>3.0</td>\n",
       "      <td>584.0</td>\n",
       "      <td>16.0</td>\n",
       "      <td>11.0</td>\n",
       "      <td>13.0</td>\n",
       "      <td>14840.0</td>\n",
       "      <td>guariba</td>\n",
       "      <td>SP</td>\n",
       "    </tr>\n",
       "    <tr>\n",
       "      <th>1001</th>\n",
       "      <td>341d0ee42d08b192c88aaa1c360f97e9</td>\n",
       "      <td>b5e852d38cb35637d6e92026a54bc952</td>\n",
       "      <td>delivered</td>\n",
       "      <td>2017-11-29 12:07:47</td>\n",
       "      <td>2017-11-29 12:19:01</td>\n",
       "      <td>2017-12-01 15:39:04</td>\n",
       "      <td>2018-01-03 18:09:00</td>\n",
       "      <td>2017-12-22 00:00:00</td>\n",
       "      <td>f68b9b4ca3dafbd2951d3cdbfacb2811</td>\n",
       "      <td>3.0</td>\n",
       "      <td>...</td>\n",
       "      <td>33.0</td>\n",
       "      <td>523.0</td>\n",
       "      <td>3.0</td>\n",
       "      <td>584.0</td>\n",
       "      <td>16.0</td>\n",
       "      <td>11.0</td>\n",
       "      <td>13.0</td>\n",
       "      <td>14840.0</td>\n",
       "      <td>guariba</td>\n",
       "      <td>SP</td>\n",
       "    </tr>\n",
       "  </tbody>\n",
       "</table>\n",
       "<p>2 rows × 39 columns</p>\n",
       "</div>"
      ],
      "text/plain": [
       "                              order_id                       customer_id  \\\n",
       "1000  a7a423a542937b74dff48feaf2dd1126  247a290f66ea274a4e123ba15e1b086c   \n",
       "1001  341d0ee42d08b192c88aaa1c360f97e9  b5e852d38cb35637d6e92026a54bc952   \n",
       "\n",
       "     order_status order_purchase_timestamp    order_approved_at  \\\n",
       "1000    delivered      2017-07-21 19:03:50  2017-07-21 19:15:12   \n",
       "1001    delivered      2017-11-29 12:07:47  2017-11-29 12:19:01   \n",
       "\n",
       "     order_delivered_carrier_date order_delivered_customer_date  \\\n",
       "1000          2017-07-24 14:47:27           2017-08-28 19:46:34   \n",
       "1001          2017-12-01 15:39:04           2018-01-03 18:09:00   \n",
       "\n",
       "     order_estimated_delivery_date                         review_id  \\\n",
       "1000           2017-08-18 00:00:00  e5db1be774e0342f0998a113baf22db5   \n",
       "1001           2017-12-22 00:00:00  f68b9b4ca3dafbd2951d3cdbfacb2811   \n",
       "\n",
       "      review_score  ... product_name_lenght product_description_lenght  \\\n",
       "1000           1.0  ...                33.0                      523.0   \n",
       "1001           3.0  ...                33.0                      523.0   \n",
       "\n",
       "     product_photos_qty product_weight_g  product_length_cm product_height_cm  \\\n",
       "1000                3.0            584.0               16.0              11.0   \n",
       "1001                3.0            584.0               16.0              11.0   \n",
       "\n",
       "      product_width_cm  seller_zip_code_prefix  seller_city seller_state  \n",
       "1000              13.0                 14840.0      guariba           SP  \n",
       "1001              13.0                 14840.0      guariba           SP  \n",
       "\n",
       "[2 rows x 39 columns]"
      ]
     },
     "execution_count": 8,
     "metadata": {},
     "output_type": "execute_result"
    }
   ],
   "source": [
    "#randomly see two rows just like df.head()\n",
    "final_df[1000:1002]"
   ]
  },
  {
   "cell_type": "code",
   "execution_count": 9,
   "metadata": {},
   "outputs": [],
   "source": [
    "# count number of duplicated cells just for fun\n",
    "duplicated_count = 0\n",
    "[duplicated_count+1 for value in final_df.duplicated() if value == True]\n",
    "duplicated_count\n",
    "\n",
    "#we can remove duplicates since we have date time and hence will not remove repeat orders\n",
    "final_df = final_df.drop_duplicates()"
   ]
  },
  {
   "cell_type": "code",
   "execution_count": 10,
   "metadata": {},
   "outputs": [
    {
     "name": "stdout",
     "output_type": "stream",
     "text": [
      "<class 'pandas.core.frame.DataFrame'>\n",
      "Int64Index: 119143 entries, 0 to 119142\n",
      "Data columns (total 39 columns):\n",
      " #   Column                         Non-Null Count   Dtype  \n",
      "---  ------                         --------------   -----  \n",
      " 0   order_id                       119143 non-null  object \n",
      " 1   customer_id                    119143 non-null  object \n",
      " 2   order_status                   119143 non-null  object \n",
      " 3   order_purchase_timestamp       119143 non-null  object \n",
      " 4   order_approved_at              118966 non-null  object \n",
      " 5   order_delivered_carrier_date   117057 non-null  object \n",
      " 6   order_delivered_customer_date  115722 non-null  object \n",
      " 7   order_estimated_delivery_date  119143 non-null  object \n",
      " 8   review_id                      118146 non-null  object \n",
      " 9   review_score                   118146 non-null  float64\n",
      " 10  review_comment_title           13989 non-null   object \n",
      " 11  review_comment_message         50245 non-null   object \n",
      " 12  review_creation_date           118146 non-null  object \n",
      " 13  review_answer_timestamp        118146 non-null  object \n",
      " 14  payment_sequential             119140 non-null  float64\n",
      " 15  payment_type                   119140 non-null  object \n",
      " 16  payment_installments           119140 non-null  float64\n",
      " 17  payment_value                  119140 non-null  float64\n",
      " 18  order_item_id                  118310 non-null  float64\n",
      " 19  product_id                     118310 non-null  object \n",
      " 20  seller_id                      118310 non-null  object \n",
      " 21  shipping_limit_date            118310 non-null  object \n",
      " 22  price                          118310 non-null  float64\n",
      " 23  freight_value                  118310 non-null  float64\n",
      " 24  customer_unique_id             119143 non-null  object \n",
      " 25  customer_zip_code_prefix       119143 non-null  int64  \n",
      " 26  customer_city                  119143 non-null  object \n",
      " 27  customer_state                 119143 non-null  object \n",
      " 28  product_category_name          116601 non-null  object \n",
      " 29  product_name_lenght            116601 non-null  float64\n",
      " 30  product_description_lenght     116601 non-null  float64\n",
      " 31  product_photos_qty             116601 non-null  float64\n",
      " 32  product_weight_g               118290 non-null  float64\n",
      " 33  product_length_cm              118290 non-null  float64\n",
      " 34  product_height_cm              118290 non-null  float64\n",
      " 35  product_width_cm               118290 non-null  float64\n",
      " 36  seller_zip_code_prefix         118310 non-null  float64\n",
      " 37  seller_city                    118310 non-null  object \n",
      " 38  seller_state                   118310 non-null  object \n",
      "dtypes: float64(15), int64(1), object(23)\n",
      "memory usage: 36.4+ MB\n"
     ]
    }
   ],
   "source": [
    "#final_df.dtypes\n",
    "#final_df.shape\n",
    "final_df.info()"
   ]
  },
  {
   "cell_type": "code",
   "execution_count": 11,
   "metadata": {},
   "outputs": [
    {
     "data": {
      "text/plain": [
       "order_id                          0.000000\n",
       "customer_id                       0.000000\n",
       "order_status                      0.000000\n",
       "order_purchase_timestamp          0.000000\n",
       "order_approved_at                 0.148561\n",
       "order_delivered_carrier_date      1.750837\n",
       "order_delivered_customer_date     2.871339\n",
       "order_estimated_delivery_date     0.000000\n",
       "review_id                         0.836810\n",
       "review_score                      0.836810\n",
       "review_comment_title             88.258647\n",
       "review_comment_message           57.827988\n",
       "review_creation_date              0.836810\n",
       "review_answer_timestamp           0.836810\n",
       "payment_sequential                0.002518\n",
       "payment_type                      0.002518\n",
       "payment_installments              0.002518\n",
       "payment_value                     0.002518\n",
       "order_item_id                     0.699160\n",
       "product_id                        0.699160\n",
       "seller_id                         0.699160\n",
       "shipping_limit_date               0.699160\n",
       "price                             0.699160\n",
       "freight_value                     0.699160\n",
       "customer_unique_id                0.000000\n",
       "customer_zip_code_prefix          0.000000\n",
       "customer_city                     0.000000\n",
       "customer_state                    0.000000\n",
       "product_category_name             2.133571\n",
       "product_name_lenght               2.133571\n",
       "product_description_lenght        2.133571\n",
       "product_photos_qty                2.133571\n",
       "product_weight_g                  0.715946\n",
       "product_length_cm                 0.715946\n",
       "product_height_cm                 0.715946\n",
       "product_width_cm                  0.715946\n",
       "seller_zip_code_prefix            0.699160\n",
       "seller_city                       0.699160\n",
       "seller_state                      0.699160\n",
       "dtype: float64"
      ]
     },
     "execution_count": 11,
     "metadata": {},
     "output_type": "execute_result"
    }
   ],
   "source": [
    "#check any null values \n",
    "# percent of null values\n",
    "final_df.isnull().sum()*100/len(final_df)"
   ]
  },
  {
   "cell_type": "code",
   "execution_count": 12,
   "metadata": {},
   "outputs": [],
   "source": [
    "# removing all NaN values in order_date related columns by using values in the same row\n",
    "# the below cloumns are all dateTime and same asType (now object but will change in future)\n",
    "final_df['order_delivered_customer_date'].fillna(final_df['order_delivered_carrier_date'], inplace=True)\n",
    "# order is important for me as the df['A'].fillna(df['B'], inplace=True) values in B replace same row NaN values in A not the other way\n",
    "final_df['order_delivered_carrier_date'].fillna(final_df['order_approved_at'], inplace=True)\n",
    "final_df['order_approved_at'].fillna(final_df['order_purchase_timestamp'], inplace=True)\n",
    "# now the NaN values in all the columns are replace by values in order_purchase_timestamp as they have no NaN values\n",
    "final_df['order_approved_at'].fillna(final_df['order_purchase_timestamp'], inplace=True)\n",
    "final_df['order_delivered_carrier_date'].fillna(final_df['order_purchase_timestamp'], inplace=True)\n",
    "final_df['order_delivered_customer_date'].fillna(final_df['order_purchase_timestamp'], inplace=True)\n",
    "\n",
    "# Check again for NaN values\n",
    "#final_df1.isnull().sum()*100/len(final_df1)"
   ]
  },
  {
   "cell_type": "code",
   "execution_count": 13,
   "metadata": {},
   "outputs": [],
   "source": [
    "# df.dropna(subset=['A'], inplace=True)\n",
    "# make a copy and remove rows without product description\n",
    "final_df1 = final_df.copy()\n",
    "final_df1.dropna(subset=['product_description_lenght'], inplace=True)\n",
    "final_df1.dropna(subset=['product_height_cm'], inplace=True)\n",
    "final_df1.dropna(subset=['payment_value'], inplace=True)\n",
    "\n",
    "# Check again for NaN values\n",
    "#final_df1.isnull().sum()*100/len(final_df1)"
   ]
  },
  {
   "cell_type": "code",
   "execution_count": 14,
   "metadata": {},
   "outputs": [],
   "source": [
    "# now only null values are related to review\n",
    "# replace review_creation_date and review_answer_timestamp with order_delivered_customer_date assuming review made in the same date also only 0.83% null values\n",
    "final_df1['review_answer_timestamp'].fillna(final_df1['order_delivered_customer_date'], inplace=True)\n",
    "final_df1['review_creation_date'].fillna(final_df1['order_delivered_customer_date'], inplace=True)\n",
    "# now only review id and review score have null values along with review_comment\n",
    "# removing rows with null review score since that is our target and we don't need null in target. A better way would be to read the reviews with null score and decide on a rating\n",
    "final_df1.dropna(subset=['review_score'], inplace=True)\n",
    "\n",
    "# Check again for NaN values\n",
    "#final_df1.isnull().sum()*100/len(final_df1)"
   ]
  },
  {
   "cell_type": "code",
   "execution_count": 15,
   "metadata": {},
   "outputs": [],
   "source": [
    "# since only review_comment_title and review_comment_message are with NaN values replace NaN with 'no comments'\n",
    "values = {\"review_comment_title\": \"No Comments\", \"review_comment_message\": \"No Comments\"}\n",
    "final_df1.fillna(value = values, inplace = True)\n",
    "\n",
    "# Check again for NaN values\n",
    "#final_df1.isnull().sum()*100/len(final_df1)"
   ]
  },
  {
   "cell_type": "code",
   "execution_count": 16,
   "metadata": {},
   "outputs": [
    {
     "data": {
      "text/plain": [
       "0"
      ]
     },
     "execution_count": 16,
     "metadata": {},
     "output_type": "execute_result"
    }
   ],
   "source": [
    "# could save time by just replacing reviews woth 'no comments' and removing the remaining approximately 2% rows having null values\n",
    "final_df1.isna().sum().sum()\n",
    "# or use knn imputer "
   ]
  },
  {
   "cell_type": "code",
   "execution_count": 17,
   "metadata": {},
   "outputs": [
    {
     "name": "stdout",
     "output_type": "stream",
     "text": [
      "<class 'pandas.core.frame.DataFrame'>\n",
      "Int64Index: 115633 entries, 0 to 119142\n",
      "Data columns (total 39 columns):\n",
      " #   Column                         Non-Null Count   Dtype  \n",
      "---  ------                         --------------   -----  \n",
      " 0   order_id                       115633 non-null  object \n",
      " 1   customer_id                    115633 non-null  object \n",
      " 2   order_status                   115633 non-null  object \n",
      " 3   order_purchase_timestamp       115633 non-null  object \n",
      " 4   order_approved_at              115633 non-null  object \n",
      " 5   order_delivered_carrier_date   115633 non-null  object \n",
      " 6   order_delivered_customer_date  115633 non-null  object \n",
      " 7   order_estimated_delivery_date  115633 non-null  object \n",
      " 8   review_id                      115633 non-null  object \n",
      " 9   review_score                   115633 non-null  float64\n",
      " 10  review_comment_title           115633 non-null  object \n",
      " 11  review_comment_message         115633 non-null  object \n",
      " 12  review_creation_date           115633 non-null  object \n",
      " 13  review_answer_timestamp        115633 non-null  object \n",
      " 14  payment_sequential             115633 non-null  float64\n",
      " 15  payment_type                   115633 non-null  object \n",
      " 16  payment_installments           115633 non-null  float64\n",
      " 17  payment_value                  115633 non-null  float64\n",
      " 18  order_item_id                  115633 non-null  float64\n",
      " 19  product_id                     115633 non-null  object \n",
      " 20  seller_id                      115633 non-null  object \n",
      " 21  shipping_limit_date            115633 non-null  object \n",
      " 22  price                          115633 non-null  float64\n",
      " 23  freight_value                  115633 non-null  float64\n",
      " 24  customer_unique_id             115633 non-null  object \n",
      " 25  customer_zip_code_prefix       115633 non-null  int64  \n",
      " 26  customer_city                  115633 non-null  object \n",
      " 27  customer_state                 115633 non-null  object \n",
      " 28  product_category_name          115633 non-null  object \n",
      " 29  product_name_lenght            115633 non-null  float64\n",
      " 30  product_description_lenght     115633 non-null  float64\n",
      " 31  product_photos_qty             115633 non-null  float64\n",
      " 32  product_weight_g               115633 non-null  float64\n",
      " 33  product_length_cm              115633 non-null  float64\n",
      " 34  product_height_cm              115633 non-null  float64\n",
      " 35  product_width_cm               115633 non-null  float64\n",
      " 36  seller_zip_code_prefix         115633 non-null  float64\n",
      " 37  seller_city                    115633 non-null  object \n",
      " 38  seller_state                   115633 non-null  object \n",
      "dtypes: float64(15), int64(1), object(23)\n",
      "memory usage: 35.3+ MB\n"
     ]
    }
   ],
   "source": [
    "# check which features maybe converted to date time\n",
    "#final_df1[9999:10001]\n",
    "#final_df1.columns\n",
    "final_df1.info()"
   ]
  },
  {
   "cell_type": "code",
   "execution_count": 18,
   "metadata": {},
   "outputs": [
    {
     "name": "stderr",
     "output_type": "stream",
     "text": [
      "/tmp/ipykernel_689/3429759488.py:2: FutureWarning: In a future version, `df.iloc[:, i] = newvals` will attempt to set the values inplace instead of always setting a new array. To retain the old behavior, use either `df[df.columns[i]] = newvals` or, if columns are non-unique, `df.isetitem(i, newvals)`\n",
      "  final_df1.iloc[:, 3:8] = final_df1.iloc[:, 3:8].apply(pd.to_datetime, errors='coerce')\n",
      "/tmp/ipykernel_689/3429759488.py:3: FutureWarning: In a future version, `df.iloc[:, i] = newvals` will attempt to set the values inplace instead of always setting a new array. To retain the old behavior, use either `df[df.columns[i]] = newvals` or, if columns are non-unique, `df.isetitem(i, newvals)`\n",
      "  final_df1.iloc[:, 12:14] = final_df1.iloc[:, 12:14].apply(pd.to_datetime, errors='coerce')\n"
     ]
    }
   ],
   "source": [
    "# Convert date to DateTime\n",
    "final_df1.iloc[:, 3:8] = final_df1.iloc[:, 3:8].apply(pd.to_datetime, errors='coerce')\n",
    "final_df1.iloc[:, 12:14] = final_df1.iloc[:, 12:14].apply(pd.to_datetime, errors='coerce')\n",
    "final_df1['shipping_limit_date'] = pd.to_datetime(final_df1['shipping_limit_date']) "
   ]
  },
  {
   "cell_type": "code",
   "execution_count": 19,
   "metadata": {},
   "outputs": [],
   "source": [
    "final_df2 = final_df1.copy()"
   ]
  },
  {
   "cell_type": "code",
   "execution_count": 20,
   "metadata": {},
   "outputs": [],
   "source": [
    "# add additional columns for day, month, year for all datetime and then del the datetime columns\n",
    "date_features = [col for col in final_df2.columns if final_df2[col].dtype in ['datetime64[ns]']]\n",
    "\n",
    "for col in date_features:\n",
    "    final_df2[col +\"_day\"] = final_df2[col].dt.day \n",
    "    final_df2[col +\"_month\"] = final_df2[col].dt.month\n",
    "    final_df2[col +\"_year\"] = final_df2[col].dt.year \n",
    "    del final_df2[col]\n",
    "  "
   ]
  },
  {
   "cell_type": "code",
   "execution_count": 21,
   "metadata": {},
   "outputs": [
    {
     "data": {
      "text/plain": [
       "order_id                               96536\n",
       "customer_id                            96536\n",
       "review_id                              96339\n",
       "customer_unique_id                     93415\n",
       "review_comment_message                 35186\n",
       "product_id                             32183\n",
       "payment_value                          28663\n",
       "customer_zip_code_prefix               14907\n",
       "freight_value                           6954\n",
       "price                                   5881\n",
       "review_comment_title                    4481\n",
       "customer_city                           4093\n",
       "seller_id                               3030\n",
       "product_description_lenght              2958\n",
       "seller_zip_code_prefix                  2210\n",
       "product_weight_g                        2198\n",
       "seller_city                              604\n",
       "product_height_cm                        102\n",
       "product_length_cm                         99\n",
       "product_width_cm                          95\n",
       "product_category_name                     73\n",
       "product_name_lenght                       66\n",
       "order_purchase_timestamp_day              31\n",
       "shipping_limit_date_day                   31\n",
       "review_answer_timestamp_day               31\n",
       "review_creation_date_day                  31\n",
       "order_estimated_delivery_date_day         31\n",
       "order_delivered_customer_date_day         31\n",
       "order_approved_at_day                     31\n",
       "order_delivered_carrier_date_day          31\n",
       "payment_sequential                        29\n",
       "customer_state                            27\n",
       "payment_installments                      24\n",
       "seller_state                              23\n",
       "order_item_id                             21\n",
       "product_photos_qty                        19\n",
       "order_purchase_timestamp_month            12\n",
       "shipping_limit_date_month                 12\n",
       "order_approved_at_month                   12\n",
       "order_delivered_carrier_date_month        12\n",
       "review_answer_timestamp_month             12\n",
       "order_delivered_customer_date_month       12\n",
       "order_estimated_delivery_date_month       12\n",
       "review_creation_date_month                12\n",
       "order_status                               7\n",
       "review_score                               5\n",
       "shipping_limit_date_year                   4\n",
       "payment_type                               4\n",
       "order_estimated_delivery_date_year         3\n",
       "review_creation_date_year                  3\n",
       "order_delivered_carrier_date_year          3\n",
       "review_answer_timestamp_year               3\n",
       "order_approved_at_year                     3\n",
       "order_purchase_timestamp_year              3\n",
       "order_delivered_customer_date_year         3\n",
       "dtype: int64"
      ]
     },
     "execution_count": 21,
     "metadata": {},
     "output_type": "execute_result"
    }
   ],
   "source": [
    "# need to do label encoding, skew plot, numerical and categorical but the dataset is so big\n",
    "final_df2.nunique().sort_values(ascending=False)\n",
    "# one hot encoding for order_status, payment_type, "
   ]
  },
  {
   "cell_type": "code",
   "execution_count": 22,
   "metadata": {},
   "outputs": [
    {
     "data": {
      "text/plain": [
       "5.0    65381\n",
       "4.0    21956\n",
       "1.0    14553\n",
       "3.0     9721\n",
       "2.0     4022\n",
       "Name: review_score, dtype: int64"
      ]
     },
     "execution_count": 22,
     "metadata": {},
     "output_type": "execute_result"
    }
   ],
   "source": [
    "# review_score is the y data \n",
    "final_df2['review_score'].value_counts()"
   ]
  },
  {
   "cell_type": "code",
   "execution_count": 23,
   "metadata": {},
   "outputs": [],
   "source": [
    "# 8. Using Avnish Yadav method \"https://github.com/imailpradeep/aps-fault-detection-AvnishYadav/blob/main/notebook/Scania_APS_failure_prediction.ipynb\""
   ]
  },
  {
   "cell_type": "code",
   "execution_count": 24,
   "metadata": {},
   "outputs": [
    {
     "name": "stderr",
     "output_type": "stream",
     "text": [
      "/tmp/ipykernel_689/1348342834.py:6: UserWarning: \n",
      "\n",
      "`distplot` is a deprecated function and will be removed in seaborn v0.14.0.\n",
      "\n",
      "Please adapt your code to use either `displot` (a figure-level function with\n",
      "similar flexibility) or `histplot` (an axes-level function for histograms).\n",
      "\n",
      "For a guide to updating your code to use the new functions, please see\n",
      "https://gist.github.com/mwaskom/de44147ed2974457ad6372750bbe5751\n",
      "\n",
      "  sns.distplot(x=final_df2[col], color='indianred')\n",
      "/tmp/ipykernel_689/1348342834.py:6: UserWarning: \n",
      "\n",
      "`distplot` is a deprecated function and will be removed in seaborn v0.14.0.\n",
      "\n",
      "Please adapt your code to use either `displot` (a figure-level function with\n",
      "similar flexibility) or `histplot` (an axes-level function for histograms).\n",
      "\n",
      "For a guide to updating your code to use the new functions, please see\n",
      "https://gist.github.com/mwaskom/de44147ed2974457ad6372750bbe5751\n",
      "\n",
      "  sns.distplot(x=final_df2[col], color='indianred')\n",
      "/tmp/ipykernel_689/1348342834.py:6: UserWarning: \n",
      "\n",
      "`distplot` is a deprecated function and will be removed in seaborn v0.14.0.\n",
      "\n",
      "Please adapt your code to use either `displot` (a figure-level function with\n",
      "similar flexibility) or `histplot` (an axes-level function for histograms).\n",
      "\n",
      "For a guide to updating your code to use the new functions, please see\n",
      "https://gist.github.com/mwaskom/de44147ed2974457ad6372750bbe5751\n",
      "\n",
      "  sns.distplot(x=final_df2[col], color='indianred')\n",
      "/tmp/ipykernel_689/1348342834.py:6: UserWarning: \n",
      "\n",
      "`distplot` is a deprecated function and will be removed in seaborn v0.14.0.\n",
      "\n",
      "Please adapt your code to use either `displot` (a figure-level function with\n",
      "similar flexibility) or `histplot` (an axes-level function for histograms).\n",
      "\n",
      "For a guide to updating your code to use the new functions, please see\n",
      "https://gist.github.com/mwaskom/de44147ed2974457ad6372750bbe5751\n",
      "\n",
      "  sns.distplot(x=final_df2[col], color='indianred')\n",
      "/tmp/ipykernel_689/1348342834.py:6: UserWarning: \n",
      "\n",
      "`distplot` is a deprecated function and will be removed in seaborn v0.14.0.\n",
      "\n",
      "Please adapt your code to use either `displot` (a figure-level function with\n",
      "similar flexibility) or `histplot` (an axes-level function for histograms).\n",
      "\n",
      "For a guide to updating your code to use the new functions, please see\n",
      "https://gist.github.com/mwaskom/de44147ed2974457ad6372750bbe5751\n",
      "\n",
      "  sns.distplot(x=final_df2[col], color='indianred')\n",
      "/tmp/ipykernel_689/1348342834.py:6: UserWarning: \n",
      "\n",
      "`distplot` is a deprecated function and will be removed in seaborn v0.14.0.\n",
      "\n",
      "Please adapt your code to use either `displot` (a figure-level function with\n",
      "similar flexibility) or `histplot` (an axes-level function for histograms).\n",
      "\n",
      "For a guide to updating your code to use the new functions, please see\n",
      "https://gist.github.com/mwaskom/de44147ed2974457ad6372750bbe5751\n",
      "\n",
      "  sns.distplot(x=final_df2[col], color='indianred')\n",
      "/tmp/ipykernel_689/1348342834.py:6: UserWarning: \n",
      "\n",
      "`distplot` is a deprecated function and will be removed in seaborn v0.14.0.\n",
      "\n",
      "Please adapt your code to use either `displot` (a figure-level function with\n",
      "similar flexibility) or `histplot` (an axes-level function for histograms).\n",
      "\n",
      "For a guide to updating your code to use the new functions, please see\n",
      "https://gist.github.com/mwaskom/de44147ed2974457ad6372750bbe5751\n",
      "\n",
      "  sns.distplot(x=final_df2[col], color='indianred')\n",
      "/tmp/ipykernel_689/1348342834.py:6: UserWarning: \n",
      "\n",
      "`distplot` is a deprecated function and will be removed in seaborn v0.14.0.\n",
      "\n",
      "Please adapt your code to use either `displot` (a figure-level function with\n",
      "similar flexibility) or `histplot` (an axes-level function for histograms).\n",
      "\n",
      "For a guide to updating your code to use the new functions, please see\n",
      "https://gist.github.com/mwaskom/de44147ed2974457ad6372750bbe5751\n",
      "\n",
      "  sns.distplot(x=final_df2[col], color='indianred')\n",
      "/tmp/ipykernel_689/1348342834.py:6: UserWarning: \n",
      "\n",
      "`distplot` is a deprecated function and will be removed in seaborn v0.14.0.\n",
      "\n",
      "Please adapt your code to use either `displot` (a figure-level function with\n",
      "similar flexibility) or `histplot` (an axes-level function for histograms).\n",
      "\n",
      "For a guide to updating your code to use the new functions, please see\n",
      "https://gist.github.com/mwaskom/de44147ed2974457ad6372750bbe5751\n",
      "\n",
      "  sns.distplot(x=final_df2[col], color='indianred')\n",
      "/tmp/ipykernel_689/1348342834.py:6: UserWarning: \n",
      "\n",
      "`distplot` is a deprecated function and will be removed in seaborn v0.14.0.\n",
      "\n",
      "Please adapt your code to use either `displot` (a figure-level function with\n",
      "similar flexibility) or `histplot` (an axes-level function for histograms).\n",
      "\n",
      "For a guide to updating your code to use the new functions, please see\n",
      "https://gist.github.com/mwaskom/de44147ed2974457ad6372750bbe5751\n",
      "\n",
      "  sns.distplot(x=final_df2[col], color='indianred')\n",
      "/tmp/ipykernel_689/1348342834.py:6: UserWarning: \n",
      "\n",
      "`distplot` is a deprecated function and will be removed in seaborn v0.14.0.\n",
      "\n",
      "Please adapt your code to use either `displot` (a figure-level function with\n",
      "similar flexibility) or `histplot` (an axes-level function for histograms).\n",
      "\n",
      "For a guide to updating your code to use the new functions, please see\n",
      "https://gist.github.com/mwaskom/de44147ed2974457ad6372750bbe5751\n",
      "\n",
      "  sns.distplot(x=final_df2[col], color='indianred')\n"
     ]
    },
    {
     "ename": "KeyboardInterrupt",
     "evalue": "",
     "output_type": "error",
     "traceback": [
      "\u001b[0;31m---------------------------------------------------------------------------\u001b[0m",
      "\u001b[0;31mKeyboardInterrupt\u001b[0m                         Traceback (most recent call last)",
      "Cell \u001b[0;32mIn[24], line 6\u001b[0m\n\u001b[1;32m      4\u001b[0m \u001b[38;5;28;01mfor\u001b[39;00m i, col \u001b[38;5;129;01min\u001b[39;00m \u001b[38;5;28menumerate\u001b[39m(numeric_features):\n\u001b[1;32m      5\u001b[0m     plt\u001b[38;5;241m.\u001b[39msubplot(\u001b[38;5;241m60\u001b[39m, \u001b[38;5;241m3\u001b[39m, i\u001b[38;5;241m+\u001b[39m\u001b[38;5;241m1\u001b[39m)\n\u001b[0;32m----> 6\u001b[0m     \u001b[43msns\u001b[49m\u001b[38;5;241;43m.\u001b[39;49m\u001b[43mdistplot\u001b[49m\u001b[43m(\u001b[49m\u001b[43mx\u001b[49m\u001b[38;5;241;43m=\u001b[39;49m\u001b[43mfinal_df2\u001b[49m\u001b[43m[\u001b[49m\u001b[43mcol\u001b[49m\u001b[43m]\u001b[49m\u001b[43m,\u001b[49m\u001b[43m \u001b[49m\u001b[43mcolor\u001b[49m\u001b[38;5;241;43m=\u001b[39;49m\u001b[38;5;124;43m'\u001b[39;49m\u001b[38;5;124;43mindianred\u001b[39;49m\u001b[38;5;124;43m'\u001b[39;49m\u001b[43m)\u001b[49m\n\u001b[1;32m      7\u001b[0m     plt\u001b[38;5;241m.\u001b[39mxlabel(col, weight\u001b[38;5;241m=\u001b[39m\u001b[38;5;124m'\u001b[39m\u001b[38;5;124mbold\u001b[39m\u001b[38;5;124m'\u001b[39m)\n\u001b[1;32m      8\u001b[0m     plt\u001b[38;5;241m.\u001b[39mtight_layout()\n",
      "File \u001b[0;32m~/.local/lib/python3.8/site-packages/seaborn/distributions.py:2511\u001b[0m, in \u001b[0;36mdistplot\u001b[0;34m(a, bins, hist, kde, rug, fit, hist_kws, kde_kws, rug_kws, fit_kws, color, vertical, norm_hist, axlabel, label, ax, x)\u001b[0m\n\u001b[1;32m   2509\u001b[0m \u001b[39mif\u001b[39;00m kde:\n\u001b[1;32m   2510\u001b[0m     kde_color \u001b[39m=\u001b[39m kde_kws\u001b[39m.\u001b[39mpop(\u001b[39m\"\u001b[39m\u001b[39mcolor\u001b[39m\u001b[39m\"\u001b[39m, color)\n\u001b[0;32m-> 2511\u001b[0m     kdeplot(\u001b[39m*\u001b[39;49m\u001b[39m*\u001b[39;49m{axis: a}, ax\u001b[39m=\u001b[39;49max, color\u001b[39m=\u001b[39;49mkde_color, \u001b[39m*\u001b[39;49m\u001b[39m*\u001b[39;49mkde_kws)\n\u001b[1;32m   2512\u001b[0m     \u001b[39mif\u001b[39;00m kde_color \u001b[39m!=\u001b[39m color:\n\u001b[1;32m   2513\u001b[0m         kde_kws[\u001b[39m\"\u001b[39m\u001b[39mcolor\u001b[39m\u001b[39m\"\u001b[39m] \u001b[39m=\u001b[39m kde_color\n",
      "File \u001b[0;32m~/.local/lib/python3.8/site-packages/seaborn/distributions.py:1717\u001b[0m, in \u001b[0;36mkdeplot\u001b[0;34m(data, x, y, hue, weights, palette, hue_order, hue_norm, color, fill, multiple, common_norm, common_grid, cumulative, bw_method, bw_adjust, warn_singular, log_scale, levels, thresh, gridsize, cut, clip, legend, cbar, cbar_ax, cbar_kws, ax, **kwargs)\u001b[0m\n\u001b[1;32m   1713\u001b[0m \u001b[39mif\u001b[39;00m p\u001b[39m.\u001b[39munivariate:\n\u001b[1;32m   1715\u001b[0m     plot_kws \u001b[39m=\u001b[39m kwargs\u001b[39m.\u001b[39mcopy()\n\u001b[0;32m-> 1717\u001b[0m     p\u001b[39m.\u001b[39;49mplot_univariate_density(\n\u001b[1;32m   1718\u001b[0m         multiple\u001b[39m=\u001b[39;49mmultiple,\n\u001b[1;32m   1719\u001b[0m         common_norm\u001b[39m=\u001b[39;49mcommon_norm,\n\u001b[1;32m   1720\u001b[0m         common_grid\u001b[39m=\u001b[39;49mcommon_grid,\n\u001b[1;32m   1721\u001b[0m         fill\u001b[39m=\u001b[39;49mfill,\n\u001b[1;32m   1722\u001b[0m         color\u001b[39m=\u001b[39;49mcolor,\n\u001b[1;32m   1723\u001b[0m         legend\u001b[39m=\u001b[39;49mlegend,\n\u001b[1;32m   1724\u001b[0m         warn_singular\u001b[39m=\u001b[39;49mwarn_singular,\n\u001b[1;32m   1725\u001b[0m         estimate_kws\u001b[39m=\u001b[39;49mestimate_kws,\n\u001b[1;32m   1726\u001b[0m         \u001b[39m*\u001b[39;49m\u001b[39m*\u001b[39;49mplot_kws,\n\u001b[1;32m   1727\u001b[0m     )\n\u001b[1;32m   1729\u001b[0m \u001b[39melse\u001b[39;00m:\n\u001b[1;32m   1731\u001b[0m     p\u001b[39m.\u001b[39mplot_bivariate_density(\n\u001b[1;32m   1732\u001b[0m         common_norm\u001b[39m=\u001b[39mcommon_norm,\n\u001b[1;32m   1733\u001b[0m         fill\u001b[39m=\u001b[39mfill,\n\u001b[0;32m   (...)\u001b[0m\n\u001b[1;32m   1743\u001b[0m         \u001b[39m*\u001b[39m\u001b[39m*\u001b[39mkwargs,\n\u001b[1;32m   1744\u001b[0m     )\n",
      "File \u001b[0;32m~/.local/lib/python3.8/site-packages/seaborn/distributions.py:937\u001b[0m, in \u001b[0;36m_DistributionPlotter.plot_univariate_density\u001b[0;34m(self, multiple, common_norm, common_grid, warn_singular, fill, color, legend, estimate_kws, **plot_kws)\u001b[0m\n\u001b[1;32m    934\u001b[0m log_scale \u001b[39m=\u001b[39m \u001b[39mself\u001b[39m\u001b[39m.\u001b[39m_log_scaled(\u001b[39mself\u001b[39m\u001b[39m.\u001b[39mdata_variable)\n\u001b[1;32m    936\u001b[0m \u001b[39m# Do the computation\u001b[39;00m\n\u001b[0;32m--> 937\u001b[0m densities \u001b[39m=\u001b[39m \u001b[39mself\u001b[39;49m\u001b[39m.\u001b[39;49m_compute_univariate_density(\n\u001b[1;32m    938\u001b[0m     \u001b[39mself\u001b[39;49m\u001b[39m.\u001b[39;49mdata_variable,\n\u001b[1;32m    939\u001b[0m     common_norm,\n\u001b[1;32m    940\u001b[0m     common_grid,\n\u001b[1;32m    941\u001b[0m     estimate_kws,\n\u001b[1;32m    942\u001b[0m     log_scale,\n\u001b[1;32m    943\u001b[0m     warn_singular,\n\u001b[1;32m    944\u001b[0m )\n\u001b[1;32m    946\u001b[0m \u001b[39m# Adjust densities based on the `multiple` rule\u001b[39;00m\n\u001b[1;32m    947\u001b[0m densities, baselines \u001b[39m=\u001b[39m \u001b[39mself\u001b[39m\u001b[39m.\u001b[39m_resolve_multiple(densities, multiple)\n",
      "File \u001b[0;32m~/.local/lib/python3.8/site-packages/seaborn/distributions.py:329\u001b[0m, in \u001b[0;36m_DistributionPlotter._compute_univariate_density\u001b[0;34m(self, data_variable, common_norm, common_grid, estimate_kws, log_scale, warn_singular)\u001b[0m\n\u001b[1;32m    325\u001b[0m     whole_weight \u001b[39m=\u001b[39m \u001b[39mlen\u001b[39m(all_data)\n\u001b[1;32m    327\u001b[0m densities \u001b[39m=\u001b[39m {}\n\u001b[0;32m--> 329\u001b[0m \u001b[39mfor\u001b[39;00m sub_vars, sub_data \u001b[39min\u001b[39;00m \u001b[39mself\u001b[39m\u001b[39m.\u001b[39miter_data(\u001b[39m\"\u001b[39m\u001b[39mhue\u001b[39m\u001b[39m\"\u001b[39m, from_comp_data\u001b[39m=\u001b[39m\u001b[39mTrue\u001b[39;00m):\n\u001b[1;32m    330\u001b[0m \n\u001b[1;32m    331\u001b[0m     \u001b[39m# Extract the data points from this sub set and remove nulls\u001b[39;00m\n\u001b[1;32m    332\u001b[0m     observations \u001b[39m=\u001b[39m sub_data[data_variable]\n\u001b[1;32m    334\u001b[0m     \u001b[39m# Extract the weights for this subset of observations\u001b[39;00m\n",
      "File \u001b[0;32m~/.local/lib/python3.8/site-packages/seaborn/_oldcore.py:1033\u001b[0m, in \u001b[0;36mVectorPlotter.iter_data\u001b[0;34m(self, grouping_vars, reverse, from_comp_data, by_facet, allow_empty, dropna)\u001b[0m\n\u001b[1;32m   1030\u001b[0m     data \u001b[39m=\u001b[39m \u001b[39mself\u001b[39m\u001b[39m.\u001b[39mplot_data\n\u001b[1;32m   1032\u001b[0m \u001b[39mif\u001b[39;00m dropna:\n\u001b[0;32m-> 1033\u001b[0m     data \u001b[39m=\u001b[39m data\u001b[39m.\u001b[39;49mdropna()\n\u001b[1;32m   1035\u001b[0m levels \u001b[39m=\u001b[39m \u001b[39mself\u001b[39m\u001b[39m.\u001b[39mvar_levels\u001b[39m.\u001b[39mcopy()\n\u001b[1;32m   1036\u001b[0m \u001b[39mif\u001b[39;00m from_comp_data:\n",
      "File \u001b[0;32m~/.local/lib/python3.8/site-packages/pandas/util/_decorators.py:331\u001b[0m, in \u001b[0;36mdeprecate_nonkeyword_arguments.<locals>.decorate.<locals>.wrapper\u001b[0;34m(*args, **kwargs)\u001b[0m\n\u001b[1;32m    325\u001b[0m \u001b[39mif\u001b[39;00m \u001b[39mlen\u001b[39m(args) \u001b[39m>\u001b[39m num_allow_args:\n\u001b[1;32m    326\u001b[0m     warnings\u001b[39m.\u001b[39mwarn(\n\u001b[1;32m    327\u001b[0m         msg\u001b[39m.\u001b[39mformat(arguments\u001b[39m=\u001b[39m_format_argument_list(allow_args)),\n\u001b[1;32m    328\u001b[0m         \u001b[39mFutureWarning\u001b[39;00m,\n\u001b[1;32m    329\u001b[0m         stacklevel\u001b[39m=\u001b[39mfind_stack_level(),\n\u001b[1;32m    330\u001b[0m     )\n\u001b[0;32m--> 331\u001b[0m \u001b[39mreturn\u001b[39;00m func(\u001b[39m*\u001b[39;49margs, \u001b[39m*\u001b[39;49m\u001b[39m*\u001b[39;49mkwargs)\n",
      "File \u001b[0;32m~/.local/lib/python3.8/site-packages/pandas/core/frame.py:6566\u001b[0m, in \u001b[0;36mDataFrame.dropna\u001b[0;34m(self, axis, how, thresh, subset, inplace)\u001b[0m\n\u001b[1;32m   6563\u001b[0m     mask \u001b[39m=\u001b[39m count \u001b[39m>\u001b[39m\u001b[39m=\u001b[39m thresh\n\u001b[1;32m   6564\u001b[0m \u001b[39melif\u001b[39;00m how \u001b[39m==\u001b[39m \u001b[39m\"\u001b[39m\u001b[39many\u001b[39m\u001b[39m\"\u001b[39m:\n\u001b[1;32m   6565\u001b[0m     \u001b[39m# faster equivalent to 'agg_obj.count(agg_axis) == self.shape[agg_axis]'\u001b[39;00m\n\u001b[0;32m-> 6566\u001b[0m     mask \u001b[39m=\u001b[39m notna(agg_obj)\u001b[39m.\u001b[39;49mall(axis\u001b[39m=\u001b[39;49magg_axis, bool_only\u001b[39m=\u001b[39;49m\u001b[39mFalse\u001b[39;49;00m)\n\u001b[1;32m   6567\u001b[0m \u001b[39melif\u001b[39;00m how \u001b[39m==\u001b[39m \u001b[39m\"\u001b[39m\u001b[39mall\u001b[39m\u001b[39m\"\u001b[39m:\n\u001b[1;32m   6568\u001b[0m     \u001b[39m# faster equivalent to 'agg_obj.count(agg_axis) > 0'\u001b[39;00m\n\u001b[1;32m   6569\u001b[0m     mask \u001b[39m=\u001b[39m notna(agg_obj)\u001b[39m.\u001b[39many(axis\u001b[39m=\u001b[39magg_axis, bool_only\u001b[39m=\u001b[39m\u001b[39mFalse\u001b[39;00m)\n",
      "File \u001b[0;32m~/.local/lib/python3.8/site-packages/pandas/core/generic.py:11629\u001b[0m, in \u001b[0;36mNDFrame._add_numeric_operations.<locals>.all\u001b[0;34m(self, axis, bool_only, skipna, level, **kwargs)\u001b[0m\n\u001b[1;32m  11618\u001b[0m \u001b[39m@doc\u001b[39m(\n\u001b[1;32m  11619\u001b[0m     _bool_doc,\n\u001b[1;32m  11620\u001b[0m     desc\u001b[39m=\u001b[39m_all_desc,\n\u001b[0;32m   (...)\u001b[0m\n\u001b[1;32m  11627\u001b[0m )\n\u001b[1;32m  11628\u001b[0m \u001b[39mdef\u001b[39;00m \u001b[39mall\u001b[39m(\u001b[39mself\u001b[39m, axis\u001b[39m=\u001b[39m\u001b[39m0\u001b[39m, bool_only\u001b[39m=\u001b[39m\u001b[39mNone\u001b[39;00m, skipna\u001b[39m=\u001b[39m\u001b[39mTrue\u001b[39;00m, level\u001b[39m=\u001b[39m\u001b[39mNone\u001b[39;00m, \u001b[39m*\u001b[39m\u001b[39m*\u001b[39mkwargs):\n\u001b[0;32m> 11629\u001b[0m     \u001b[39mreturn\u001b[39;00m NDFrame\u001b[39m.\u001b[39;49mall(\u001b[39mself\u001b[39;49m, axis, bool_only, skipna, level, \u001b[39m*\u001b[39;49m\u001b[39m*\u001b[39;49mkwargs)\n",
      "File \u001b[0;32m~/.local/lib/python3.8/site-packages/pandas/core/generic.py:11186\u001b[0m, in \u001b[0;36mNDFrame.all\u001b[0;34m(self, axis, bool_only, skipna, level, **kwargs)\u001b[0m\n\u001b[1;32m  11178\u001b[0m \u001b[39mdef\u001b[39;00m \u001b[39mall\u001b[39m(\n\u001b[1;32m  11179\u001b[0m     \u001b[39mself\u001b[39m,\n\u001b[1;32m  11180\u001b[0m     axis: Axis \u001b[39m=\u001b[39m \u001b[39m0\u001b[39m,\n\u001b[0;32m   (...)\u001b[0m\n\u001b[1;32m  11184\u001b[0m     \u001b[39m*\u001b[39m\u001b[39m*\u001b[39mkwargs,\n\u001b[1;32m  11185\u001b[0m ) \u001b[39m-\u001b[39m\u001b[39m>\u001b[39m Series \u001b[39m|\u001b[39m bool_t:\n\u001b[0;32m> 11186\u001b[0m     \u001b[39mreturn\u001b[39;00m \u001b[39mself\u001b[39;49m\u001b[39m.\u001b[39;49m_logical_func(\n\u001b[1;32m  11187\u001b[0m         \u001b[39m\"\u001b[39;49m\u001b[39mall\u001b[39;49m\u001b[39m\"\u001b[39;49m, nanops\u001b[39m.\u001b[39;49mnanall, axis, bool_only, skipna, level, \u001b[39m*\u001b[39;49m\u001b[39m*\u001b[39;49mkwargs\n\u001b[1;32m  11188\u001b[0m     )\n",
      "File \u001b[0;32m~/.local/lib/python3.8/site-packages/pandas/core/generic.py:11157\u001b[0m, in \u001b[0;36mNDFrame._logical_func\u001b[0;34m(self, name, func, axis, bool_only, skipna, level, **kwargs)\u001b[0m\n\u001b[1;32m  11154\u001b[0m         obj \u001b[39m=\u001b[39m \u001b[39mself\u001b[39m\u001b[39m.\u001b[39m_get_bool_data()\n\u001b[1;32m  11155\u001b[0m     \u001b[39mreturn\u001b[39;00m obj\u001b[39m.\u001b[39m_reduce_axis1(name, func, skipna\u001b[39m=\u001b[39mskipna)\n\u001b[0;32m> 11157\u001b[0m \u001b[39mreturn\u001b[39;00m \u001b[39mself\u001b[39;49m\u001b[39m.\u001b[39;49m_reduce(\n\u001b[1;32m  11158\u001b[0m     func,\n\u001b[1;32m  11159\u001b[0m     name\u001b[39m=\u001b[39;49mname,\n\u001b[1;32m  11160\u001b[0m     axis\u001b[39m=\u001b[39;49maxis,\n\u001b[1;32m  11161\u001b[0m     skipna\u001b[39m=\u001b[39;49mskipna,\n\u001b[1;32m  11162\u001b[0m     numeric_only\u001b[39m=\u001b[39;49mbool_only,\n\u001b[1;32m  11163\u001b[0m     filter_type\u001b[39m=\u001b[39;49m\u001b[39m\"\u001b[39;49m\u001b[39mbool\u001b[39;49m\u001b[39m\"\u001b[39;49m,\n\u001b[1;32m  11164\u001b[0m )\n",
      "File \u001b[0;32m~/.local/lib/python3.8/site-packages/pandas/core/frame.py:10856\u001b[0m, in \u001b[0;36mDataFrame._reduce\u001b[0;34m(self, op, name, axis, skipna, numeric_only, filter_type, **kwds)\u001b[0m\n\u001b[1;32m  10854\u001b[0m out \u001b[39m=\u001b[39m df\u001b[39m.\u001b[39m_constructor(res)\u001b[39m.\u001b[39miloc[\u001b[39m0\u001b[39m]\n\u001b[1;32m  10855\u001b[0m \u001b[39mif\u001b[39;00m out_dtype \u001b[39mis\u001b[39;00m \u001b[39mnot\u001b[39;00m \u001b[39mNone\u001b[39;00m:\n\u001b[0;32m> 10856\u001b[0m     out \u001b[39m=\u001b[39m out\u001b[39m.\u001b[39;49mastype(out_dtype)\n\u001b[1;32m  10857\u001b[0m \u001b[39mif\u001b[39;00m axis \u001b[39m==\u001b[39m \u001b[39m0\u001b[39m \u001b[39mand\u001b[39;00m \u001b[39mlen\u001b[39m(\u001b[39mself\u001b[39m) \u001b[39m==\u001b[39m \u001b[39m0\u001b[39m \u001b[39mand\u001b[39;00m name \u001b[39min\u001b[39;00m [\u001b[39m\"\u001b[39m\u001b[39msum\u001b[39m\u001b[39m\"\u001b[39m, \u001b[39m\"\u001b[39m\u001b[39mprod\u001b[39m\u001b[39m\"\u001b[39m]:\n\u001b[1;32m  10858\u001b[0m     \u001b[39m# Even if we are object dtype, follow numpy and return\u001b[39;00m\n\u001b[1;32m  10859\u001b[0m     \u001b[39m#  float64, see test_apply_funcs_over_empty\u001b[39;00m\n\u001b[1;32m  10860\u001b[0m     out \u001b[39m=\u001b[39m out\u001b[39m.\u001b[39mastype(np\u001b[39m.\u001b[39mfloat64)\n",
      "File \u001b[0;32m~/.local/lib/python3.8/site-packages/pandas/core/generic.py:6240\u001b[0m, in \u001b[0;36mNDFrame.astype\u001b[0;34m(self, dtype, copy, errors)\u001b[0m\n\u001b[1;32m   6233\u001b[0m     results \u001b[39m=\u001b[39m [\n\u001b[1;32m   6234\u001b[0m         \u001b[39mself\u001b[39m\u001b[39m.\u001b[39miloc[:, i]\u001b[39m.\u001b[39mastype(dtype, copy\u001b[39m=\u001b[39mcopy)\n\u001b[1;32m   6235\u001b[0m         \u001b[39mfor\u001b[39;00m i \u001b[39min\u001b[39;00m \u001b[39mrange\u001b[39m(\u001b[39mlen\u001b[39m(\u001b[39mself\u001b[39m\u001b[39m.\u001b[39mcolumns))\n\u001b[1;32m   6236\u001b[0m     ]\n\u001b[1;32m   6238\u001b[0m \u001b[39melse\u001b[39;00m:\n\u001b[1;32m   6239\u001b[0m     \u001b[39m# else, only a single dtype is given\u001b[39;00m\n\u001b[0;32m-> 6240\u001b[0m     new_data \u001b[39m=\u001b[39m \u001b[39mself\u001b[39;49m\u001b[39m.\u001b[39;49m_mgr\u001b[39m.\u001b[39;49mastype(dtype\u001b[39m=\u001b[39;49mdtype, copy\u001b[39m=\u001b[39;49mcopy, errors\u001b[39m=\u001b[39;49merrors)\n\u001b[1;32m   6241\u001b[0m     \u001b[39mreturn\u001b[39;00m \u001b[39mself\u001b[39m\u001b[39m.\u001b[39m_constructor(new_data)\u001b[39m.\u001b[39m__finalize__(\u001b[39mself\u001b[39m, method\u001b[39m=\u001b[39m\u001b[39m\"\u001b[39m\u001b[39mastype\u001b[39m\u001b[39m\"\u001b[39m)\n\u001b[1;32m   6243\u001b[0m \u001b[39m# GH 33113: handle empty frame or series\u001b[39;00m\n",
      "File \u001b[0;32m~/.local/lib/python3.8/site-packages/pandas/core/internals/managers.py:450\u001b[0m, in \u001b[0;36mBaseBlockManager.astype\u001b[0;34m(self, dtype, copy, errors)\u001b[0m\n\u001b[1;32m    449\u001b[0m \u001b[39mdef\u001b[39;00m \u001b[39mastype\u001b[39m(\u001b[39mself\u001b[39m: T, dtype, copy: \u001b[39mbool\u001b[39m \u001b[39m=\u001b[39m \u001b[39mFalse\u001b[39;00m, errors: \u001b[39mstr\u001b[39m \u001b[39m=\u001b[39m \u001b[39m\"\u001b[39m\u001b[39mraise\u001b[39m\u001b[39m\"\u001b[39m) \u001b[39m-\u001b[39m\u001b[39m>\u001b[39m T:\n\u001b[0;32m--> 450\u001b[0m     \u001b[39mreturn\u001b[39;00m \u001b[39mself\u001b[39;49m\u001b[39m.\u001b[39;49mapply(\u001b[39m\"\u001b[39;49m\u001b[39mastype\u001b[39;49m\u001b[39m\"\u001b[39;49m, dtype\u001b[39m=\u001b[39;49mdtype, copy\u001b[39m=\u001b[39;49mcopy, errors\u001b[39m=\u001b[39;49merrors)\n",
      "File \u001b[0;32m~/.local/lib/python3.8/site-packages/pandas/core/internals/managers.py:352\u001b[0m, in \u001b[0;36mBaseBlockManager.apply\u001b[0;34m(self, f, align_keys, ignore_failures, **kwargs)\u001b[0m\n\u001b[1;32m    350\u001b[0m         applied \u001b[39m=\u001b[39m b\u001b[39m.\u001b[39mapply(f, \u001b[39m*\u001b[39m\u001b[39m*\u001b[39mkwargs)\n\u001b[1;32m    351\u001b[0m     \u001b[39melse\u001b[39;00m:\n\u001b[0;32m--> 352\u001b[0m         applied \u001b[39m=\u001b[39m \u001b[39mgetattr\u001b[39;49m(b, f)(\u001b[39m*\u001b[39;49m\u001b[39m*\u001b[39;49mkwargs)\n\u001b[1;32m    353\u001b[0m \u001b[39mexcept\u001b[39;00m (\u001b[39mTypeError\u001b[39;00m, \u001b[39mNotImplementedError\u001b[39;00m):\n\u001b[1;32m    354\u001b[0m     \u001b[39mif\u001b[39;00m \u001b[39mnot\u001b[39;00m ignore_failures:\n",
      "File \u001b[0;32m~/.local/lib/python3.8/site-packages/pandas/core/internals/blocks.py:526\u001b[0m, in \u001b[0;36mBlock.astype\u001b[0;34m(self, dtype, copy, errors)\u001b[0m\n\u001b[1;32m    508\u001b[0m \u001b[39m\u001b[39m\u001b[39m\"\"\"\u001b[39;00m\n\u001b[1;32m    509\u001b[0m \u001b[39mCoerce to the new dtype.\u001b[39;00m\n\u001b[1;32m    510\u001b[0m \n\u001b[0;32m   (...)\u001b[0m\n\u001b[1;32m    522\u001b[0m \u001b[39mBlock\u001b[39;00m\n\u001b[1;32m    523\u001b[0m \u001b[39m\"\"\"\u001b[39;00m\n\u001b[1;32m    524\u001b[0m values \u001b[39m=\u001b[39m \u001b[39mself\u001b[39m\u001b[39m.\u001b[39mvalues\n\u001b[0;32m--> 526\u001b[0m new_values \u001b[39m=\u001b[39m astype_array_safe(values, dtype, copy\u001b[39m=\u001b[39;49mcopy, errors\u001b[39m=\u001b[39;49merrors)\n\u001b[1;32m    528\u001b[0m new_values \u001b[39m=\u001b[39m maybe_coerce_values(new_values)\n\u001b[1;32m    529\u001b[0m newb \u001b[39m=\u001b[39m \u001b[39mself\u001b[39m\u001b[39m.\u001b[39mmake_block(new_values)\n",
      "File \u001b[0;32m~/.local/lib/python3.8/site-packages/pandas/core/dtypes/astype.py:279\u001b[0m, in \u001b[0;36mastype_array_safe\u001b[0;34m(values, dtype, copy, errors)\u001b[0m\n\u001b[1;32m    273\u001b[0m     msg \u001b[39m=\u001b[39m (\n\u001b[1;32m    274\u001b[0m         \u001b[39mf\u001b[39m\u001b[39m\"\u001b[39m\u001b[39mExpected an instance of \u001b[39m\u001b[39m{\u001b[39;00mdtype\u001b[39m.\u001b[39m\u001b[39m__name__\u001b[39m\u001b[39m}\u001b[39;00m\u001b[39m, \u001b[39m\u001b[39m\"\u001b[39m\n\u001b[1;32m    275\u001b[0m         \u001b[39m\"\u001b[39m\u001b[39mbut got the class instead. Try instantiating \u001b[39m\u001b[39m'\u001b[39m\u001b[39mdtype\u001b[39m\u001b[39m'\u001b[39m\u001b[39m.\u001b[39m\u001b[39m\"\u001b[39m\n\u001b[1;32m    276\u001b[0m     )\n\u001b[1;32m    277\u001b[0m     \u001b[39mraise\u001b[39;00m \u001b[39mTypeError\u001b[39;00m(msg)\n\u001b[0;32m--> 279\u001b[0m dtype \u001b[39m=\u001b[39m pandas_dtype(dtype)\n\u001b[1;32m    280\u001b[0m \u001b[39mif\u001b[39;00m \u001b[39misinstance\u001b[39m(dtype, PandasDtype):\n\u001b[1;32m    281\u001b[0m     \u001b[39m# Ensure we don't end up with a PandasArray\u001b[39;00m\n\u001b[1;32m    282\u001b[0m     dtype \u001b[39m=\u001b[39m dtype\u001b[39m.\u001b[39mnumpy_dtype\n",
      "File \u001b[0;32m~/.local/lib/python3.8/site-packages/pandas/core/dtypes/common.py:1791\u001b[0m, in \u001b[0;36mpandas_dtype\u001b[0;34m(dtype)\u001b[0m\n\u001b[1;32m   1784\u001b[0m     \u001b[39mraise\u001b[39;00m \u001b[39mTypeError\u001b[39;00m(\u001b[39mf\u001b[39m\u001b[39m\"\u001b[39m\u001b[39mdata type \u001b[39m\u001b[39m'\u001b[39m\u001b[39m{\u001b[39;00mdtype\u001b[39m}\u001b[39;00m\u001b[39m'\u001b[39m\u001b[39m not understood\u001b[39m\u001b[39m\"\u001b[39m) \u001b[39mfrom\u001b[39;00m \u001b[39merr\u001b[39;00m\n\u001b[1;32m   1786\u001b[0m \u001b[39m# Any invalid dtype (such as pd.Timestamp) should raise an error.\u001b[39;00m\n\u001b[1;32m   1787\u001b[0m \u001b[39m# np.dtype(invalid_type).kind = 0 for such objects. However, this will\u001b[39;00m\n\u001b[1;32m   1788\u001b[0m \u001b[39m# also catch some valid dtypes such as object, np.object_ and 'object'\u001b[39;00m\n\u001b[1;32m   1789\u001b[0m \u001b[39m# which we safeguard against by catching them earlier and returning\u001b[39;00m\n\u001b[1;32m   1790\u001b[0m \u001b[39m# np.dtype(valid_dtype) before this condition is evaluated.\u001b[39;00m\n\u001b[0;32m-> 1791\u001b[0m \u001b[39mif\u001b[39;00m is_hashable(dtype) \u001b[39mand\u001b[39;00m dtype \u001b[39min\u001b[39;00m [\u001b[39mobject\u001b[39;49m, np\u001b[39m.\u001b[39mobject_, \u001b[39m\"\u001b[39m\u001b[39mobject\u001b[39m\u001b[39m\"\u001b[39m, \u001b[39m\"\u001b[39m\u001b[39mO\u001b[39m\u001b[39m\"\u001b[39m]:\n\u001b[1;32m   1792\u001b[0m     \u001b[39m# check hashability to avoid errors/DeprecationWarning when we get\u001b[39;00m\n\u001b[1;32m   1793\u001b[0m     \u001b[39m# here and `dtype` is an array\u001b[39;00m\n\u001b[1;32m   1794\u001b[0m     \u001b[39mreturn\u001b[39;00m npdtype\n\u001b[1;32m   1795\u001b[0m \u001b[39melif\u001b[39;00m npdtype\u001b[39m.\u001b[39mkind \u001b[39m==\u001b[39m \u001b[39m\"\u001b[39m\u001b[39mO\u001b[39m\u001b[39m\"\u001b[39m:\n",
      "\u001b[0;31mKeyboardInterrupt\u001b[0m: "
     ]
    },
    {
     "data": {
      "image/png": "[encoded data removed]",
      "text/plain": [
       "<Figure size 1500x10000 with 11 Axes>"
      ]
     },
     "metadata": {},
     "output_type": "display_data"
    }
   ],
   "source": [
    "numeric_features = [feature for feature in final_df2.columns if final_df2[feature].dtype != 'O']\n",
    "\n",
    "plt.figure(figsize=(15, 100))\n",
    "for i, col in enumerate(numeric_features):\n",
    "    plt.subplot(60, 3, i+1)\n",
    "    sns.distplot(x=final_df2[col], color='indianred')\n",
    "    plt.xlabel(col, weight='bold')\n",
    "    plt.tight_layout()"
   ]
  },
  {
   "cell_type": "code",
   "execution_count": 80,
   "metadata": {},
   "outputs": [],
   "source": [
    "# get a list of categorical and numerical features\n",
    "cat_features = [col for col in final_df2.columns if final_df2[col].dtype == \"object\"]\n",
    "num_features = [col for col in final_df2.columns if final_df2[col].dtype in ['int64', 'float64']]"
   ]
  },
  {
   "cell_type": "code",
   "execution_count": 83,
   "metadata": {},
   "outputs": [],
   "source": [
    "# we cannot use the cate features in model hence need to one hot encode it but it becomes too big size\n",
    "# hence select only categorical features with less unique values to do label or one hot encoding\n",
    "sort_cat_features = final_df2[cat_features].nunique().sort_values() \n",
    "# sort_cat_features is a series and we need only index of values < 10 as a list\n",
    "indexes = s[s < 10].index\n",
    "encode_cat_features = indexes.tolist()\n",
    "\n",
    "# the above code can be written in one line\n",
    "\n",
    "# encode_cat_features = (final_df2[cat_features].nunique().sort_values())[s < 10].index.tolist()"
   ]
  },
  {
   "cell_type": "code",
   "execution_count": 82,
   "metadata": {},
   "outputs": [
    {
     "data": {
      "text/plain": [
       "['payment_type', 'order_status']"
      ]
     },
     "execution_count": 82,
     "metadata": {},
     "output_type": "execute_result"
    }
   ],
   "source": []
  },
  {
   "cell_type": "markdown",
   "metadata": {},
   "source": [
    "Conclusions:\n",
    "\n",
    "1. The columns of ['geolocation_zip_code_prefix', 'geolocation_lat', 'geolocation_lng',\n",
    "        'geolocation_city', 'geolocation_state'] and ['product_category_name', 'product_category_name_english'] not considered\n",
    "2. No duplicated values\n",
    "3. Even after outer merge negligible NaN values review_comment_title=88%, review_comment_message=58%, order_delivered_customer_date=3%, order_delivered_carrier_date, product_category_name, product_name_lenght, product_description_lenght, product_photos_qty= 2% and rest less than 1% \n",
    "4. Replaced NaN values in order date related items by replaceing with values in the same row. \n",
    "5. Possible to replace product_id related fields by checking with similar product _id and having values for size, height, etc. same for seller related columns\n",
    "6. Since only 2% rows are having NaN values with product related fields we can remove the entire row or put '0' for product related data. Removed the whole rows where we have NaN values in product related fields. \n",
    "7. The final_df2['review_score'].value_counts() show imbalanced data hence use SMOTE method or hybrid under and over sampling\n",
    "8. The number of orders peaks in August and then drops in September and gradually increases to next August. (from plots)\n",
    "9. Most are continuous values only days, months year and order_status 7, review_score 5 and payment_type 4 need to be encoded\n",
    "10. Two categorical features order_status and payment_type have only 4,7 types hence can do one hot encoding or label encoding for them"
   ]
  },
  {
   "cell_type": "markdown",
   "metadata": {},
   "source": [
    "# FE"
   ]
  },
  {
   "cell_type": "code",
   "execution_count": 46,
   "metadata": {},
   "outputs": [
    {
     "data": {
      "text/plain": [
       "9"
      ]
     },
     "execution_count": 46,
     "metadata": {},
     "output_type": "execute_result"
    }
   ],
   "source": [
    "# need to do label encoding\n",
    "# one hot encoding for order_status, payment_type, \n",
    "\n",
    "final_df3 = pd.get_dummies(final_df2, columns = ['order_status','payment_type'])\n",
    "len(final_df3.columns) - len(final_df2.columns)"
   ]
  },
  {
   "cell_type": "markdown",
   "metadata": {},
   "source": [
    "# Model Training"
   ]
  },
  {
   "cell_type": "code",
   "execution_count": null,
   "metadata": {},
   "outputs": [],
   "source": [
    "# unable to do one hot encoding for all the data hence removing features such as order_id, customer_id, etc. which may not influence the review rating for a new customer"
   ]
  },
  {
   "cell_type": "code",
   "execution_count": 25,
   "metadata": {},
   "outputs": [],
   "source": [
    "from statistics import mean\n",
    "import warnings\n",
    "from sklearn.preprocessing import PowerTransformer\n",
    "from sklearn.preprocessing import LabelEncoder\n",
    "from sklearn.pipeline import Pipeline\n",
    "from sklearn.utils import resample\n",
    "\n",
    "from sklearn.linear_model import LogisticRegression\n",
    "from sklearn.ensemble import RandomForestClassifier, AdaBoostClassifier, GradientBoostingClassifier\n",
    "from sklearn.neighbors import KNeighborsClassifier\n",
    "from sklearn.tree import DecisionTreeClassifier\n",
    "from sklearn.svm import SVC\n",
    "from sklearn.metrics import accuracy_score, classification_report,ConfusionMatrixDisplay, \\\n",
    "                            precision_score, recall_score, f1_score, roc_auc_score,roc_curve,confusion_matrix\n",
    "\n",
    "\n",
    "from sklearn import metrics \n",
    "from sklearn.model_selection import  train_test_split, RepeatedStratifiedKFold, cross_val_score\n",
    "from sklearn.preprocessing import OneHotEncoder, MinMaxScaler\n",
    "from sklearn.compose import ColumnTransformer\n",
    "from sklearn.impute import SimpleImputer, KNNImputer\n",
    "from xgboost import XGBClassifier\n",
    "from sklearn.preprocessing import StandardScaler, MinMaxScaler,RobustScaler\n",
    "from sklearn.compose import ColumnTransformer\n",
    "from catboost import CatBoostClassifier\n",
    "\n",
    "warnings.filterwarnings(\"ignore\")\n",
    "%matplotlib inline"
   ]
  },
  {
   "cell_type": "code",
   "execution_count": 26,
   "metadata": {},
   "outputs": [],
   "source": [
    "# function to evaluate model on various parameters \n",
    "def evaluate_clf(true, predicted):\n",
    "    '''\n",
    "    This function takes in true values and predicted values\n",
    "    Returns: Accuracy, F1-Score, Precision, Recall, Roc-auc Score\n",
    "    '''\n",
    "    acc = accuracy_score(true, predicted) # Calculate Accuracy\n",
    "    f1 = f1_score(true, predicted) # Calculate F1-score\n",
    "    precision = precision_score(true, predicted) # Calculate Precision\n",
    "    recall = recall_score(true, predicted)  # Calculate Recall\n",
    "    roc_auc = roc_auc_score(true, predicted) #Calculate Roc\n",
    "    return acc, f1 , precision, recall, roc_auc"
   ]
  },
  {
   "cell_type": "code",
   "execution_count": null,
   "metadata": {},
   "outputs": [
    {
     "data": {
      "text/plain": [
       "\"\\ndef total_cost(y_true, y_pred):\\n    '''\\n    This function takes y_true, y_predicted, and prints Total cost due to misclassification\\n   \\n    '''\\n    tn, fp, fn, tp = confusion_matrix(y_true, y_pred).ravel()\\n    cost = 10*fp + 500*fn\\n    return cost\\n\""
      ]
     },
     "execution_count": 27,
     "metadata": {},
     "output_type": "execute_result"
    }
   ],
   "source": [
    "# Create cost of the model as per data description\n",
    "# in this model we have not been given the cost for each type of classification\n",
    "\"\"\"\n",
    "def total_cost(y_true, y_pred):\n",
    "    '''\n",
    "    This function takes y_true, y_predicted, and prints Total cost due to misclassification\n",
    "   \n",
    "    '''\n",
    "    tn, fp, fn, tp = confusion_matrix(y_true, y_pred).ravel()\n",
    "    cost = 10*fp + 500*fn\n",
    "    return cost\n",
    "\"\"\""
   ]
  },
  {
   "cell_type": "code",
   "execution_count": 27,
   "metadata": {},
   "outputs": [],
   "source": [
    "# Create a function which can evaluate models and return a report \n",
    "def evaluate_models(X, y, models):\n",
    "    '''\n",
    "    This function takes in X and y and models dictionary as input\n",
    "    It splits the data into Train Test split\n",
    "    Iterates through the given model dictionary and evaluates the metrics\n",
    "    Returns: Dataframe which contains report of all models metrics with cost\n",
    "    '''\n",
    "    # separate dataset into train and test\n",
    "    X_train, X_test, y_train, y_test = train_test_split(X,y,test_size=0.2,random_state=42)\n",
    "    \n",
    "    models_list = []\n",
    "    accuracy_list = []\n",
    "    \n",
    "    for i in range(len(list(models))):\n",
    "        model = list(models.values())[i]\n",
    "        model.fit(X_train, y_train) # Train model\n",
    "\n",
    "        # Make predictions\n",
    "        y_train_pred = model.predict(X_train)\n",
    "        y_test_pred = model.predict(X_test)\n",
    "\n",
    "        # Training set performance\n",
    "        model_train_accuracy, model_train_f1,model_train_precision,\\\n",
    "        model_train_recall,model_train_rocauc_score=evaluate_clf(y_train ,y_train_pred)\n",
    "\n",
    "        # Test set performance\n",
    "        model_test_accuracy,model_test_f1,model_test_precision,\\\n",
    "        model_test_recall,model_test_rocauc_score=evaluate_clf(y_test, y_test_pred)\n",
    "\n",
    "        print(list(models.keys())[i])\n",
    "        models_list.append(list(models.keys())[i])\n",
    "\n",
    "        print('Model performance for Training set')\n",
    "        print(\"- Accuracy: {:.4f}\".format(model_train_accuracy))\n",
    "        print('- F1 score: {:.4f}'.format(model_train_f1)) \n",
    "        print('- Precision: {:.4f}'.format(model_train_precision))\n",
    "        print('- Recall: {:.4f}'.format(model_train_recall))\n",
    "        print('- Roc Auc Score: {:.4f}'.format(model_train_rocauc_score))\n",
    "\n",
    "        print('----------------------------------')\n",
    "\n",
    "        print('Model performance for Test set')\n",
    "        print('- Accuracy: {:.4f}'.format(model_test_accuracy))\n",
    "        print('- F1 score: {:.4f}'.format(model_test_f1))\n",
    "        print('- Precision: {:.4f}'.format(model_test_precision))\n",
    "        print('- Recall: {:.4f}'.format(model_test_recall))\n",
    "        print('- Roc Auc Score: {:.4f}'.format(model_test_rocauc_score))\n",
    "        print('\\n')\n",
    "        \n",
    "    report=pd.DataFrame(list(zip(models_list)), columns=['Model Name']).sort_values()\n",
    "        \n",
    "    return report"
   ]
  },
  {
   "cell_type": "code",
   "execution_count": 28,
   "metadata": {},
   "outputs": [],
   "source": [
    "# Dictionary which contains models for experiment\n",
    "models = {\n",
    "    #\"Random Forest\": RandomForestClassifier(),\n",
    "    \"Decision Tree\": DecisionTreeClassifier(),\n",
    "    \"Gradient Boosting\": GradientBoostingClassifier(),\n",
    "    \"Logistic Regression\": LogisticRegression(),\n",
    "    \"K-Neighbors Classifier\": KNeighborsClassifier(),\n",
    "    \"XGBClassifier\": XGBClassifier(), \n",
    "    \"CatBoosting Classifier\": CatBoostClassifier(verbose=False),\n",
    "    \"AdaBoost Classifier\": AdaBoostClassifier()\n",
    "}"
   ]
  },
  {
   "cell_type": "code",
   "execution_count": 29,
   "metadata": {},
   "outputs": [],
   "source": [
    "# Splitting X and y for all Experiments\n",
    "X= final_df2.drop('review_score', axis=1)\n",
    "y = final_df2['review_score']"
   ]
  },
  {
   "cell_type": "code",
   "execution_count": 32,
   "metadata": {},
   "outputs": [
    {
     "data": {
      "text/html": [
       "<div>\n",
       "<style scoped>\n",
       "    .dataframe tbody tr th:only-of-type {\n",
       "        vertical-align: middle;\n",
       "    }\n",
       "\n",
       "    .dataframe tbody tr th {\n",
       "        vertical-align: top;\n",
       "    }\n",
       "\n",
       "    .dataframe thead th {\n",
       "        text-align: right;\n",
       "    }\n",
       "</style>\n",
       "<table border=\"1\" class=\"dataframe\">\n",
       "  <thead>\n",
       "    <tr style=\"text-align: right;\">\n",
       "      <th></th>\n",
       "      <th>payment_sequential</th>\n",
       "      <th>payment_installments</th>\n",
       "      <th>payment_value</th>\n",
       "      <th>order_item_id</th>\n",
       "      <th>price</th>\n",
       "      <th>freight_value</th>\n",
       "      <th>customer_zip_code_prefix</th>\n",
       "      <th>product_name_lenght</th>\n",
       "      <th>product_description_lenght</th>\n",
       "      <th>product_photos_qty</th>\n",
       "      <th>...</th>\n",
       "      <th>order_estimated_delivery_date_year</th>\n",
       "      <th>review_creation_date_day</th>\n",
       "      <th>review_creation_date_month</th>\n",
       "      <th>review_creation_date_year</th>\n",
       "      <th>review_answer_timestamp_day</th>\n",
       "      <th>review_answer_timestamp_month</th>\n",
       "      <th>review_answer_timestamp_year</th>\n",
       "      <th>shipping_limit_date_day</th>\n",
       "      <th>shipping_limit_date_month</th>\n",
       "      <th>shipping_limit_date_year</th>\n",
       "    </tr>\n",
       "  </thead>\n",
       "  <tbody>\n",
       "    <tr>\n",
       "      <th>0</th>\n",
       "      <td>1.0</td>\n",
       "      <td>1.0</td>\n",
       "      <td>18.12</td>\n",
       "      <td>1.0</td>\n",
       "      <td>29.99</td>\n",
       "      <td>8.72</td>\n",
       "      <td>3149</td>\n",
       "      <td>40.0</td>\n",
       "      <td>268.0</td>\n",
       "      <td>4.0</td>\n",
       "      <td>...</td>\n",
       "      <td>2017</td>\n",
       "      <td>11</td>\n",
       "      <td>10</td>\n",
       "      <td>2017</td>\n",
       "      <td>12</td>\n",
       "      <td>10</td>\n",
       "      <td>2017</td>\n",
       "      <td>6</td>\n",
       "      <td>10</td>\n",
       "      <td>2017</td>\n",
       "    </tr>\n",
       "    <tr>\n",
       "      <th>1</th>\n",
       "      <td>3.0</td>\n",
       "      <td>1.0</td>\n",
       "      <td>2.00</td>\n",
       "      <td>1.0</td>\n",
       "      <td>29.99</td>\n",
       "      <td>8.72</td>\n",
       "      <td>3149</td>\n",
       "      <td>40.0</td>\n",
       "      <td>268.0</td>\n",
       "      <td>4.0</td>\n",
       "      <td>...</td>\n",
       "      <td>2017</td>\n",
       "      <td>11</td>\n",
       "      <td>10</td>\n",
       "      <td>2017</td>\n",
       "      <td>12</td>\n",
       "      <td>10</td>\n",
       "      <td>2017</td>\n",
       "      <td>6</td>\n",
       "      <td>10</td>\n",
       "      <td>2017</td>\n",
       "    </tr>\n",
       "  </tbody>\n",
       "</table>\n",
       "<p>2 rows × 39 columns</p>\n",
       "</div>"
      ],
      "text/plain": [
       "   payment_sequential  payment_installments  payment_value  order_item_id  \\\n",
       "0                 1.0                   1.0          18.12            1.0   \n",
       "1                 3.0                   1.0           2.00            1.0   \n",
       "\n",
       "   price  freight_value  customer_zip_code_prefix  product_name_lenght  \\\n",
       "0  29.99           8.72                      3149                 40.0   \n",
       "1  29.99           8.72                      3149                 40.0   \n",
       "\n",
       "   product_description_lenght  product_photos_qty  ...  \\\n",
       "0                       268.0                 4.0  ...   \n",
       "1                       268.0                 4.0  ...   \n",
       "\n",
       "   order_estimated_delivery_date_year  review_creation_date_day  \\\n",
       "0                                2017                        11   \n",
       "1                                2017                        11   \n",
       "\n",
       "   review_creation_date_month  review_creation_date_year  \\\n",
       "0                          10                       2017   \n",
       "1                          10                       2017   \n",
       "\n",
       "   review_answer_timestamp_day  review_answer_timestamp_month  \\\n",
       "0                           12                             10   \n",
       "1                           12                             10   \n",
       "\n",
       "   review_answer_timestamp_year  shipping_limit_date_day  \\\n",
       "0                          2017                        6   \n",
       "1                          2017                        6   \n",
       "\n",
       "   shipping_limit_date_month  shipping_limit_date_year  \n",
       "0                         10                      2017  \n",
       "1                         10                      2017  \n",
       "\n",
       "[2 rows x 39 columns]"
      ]
     },
     "execution_count": 32,
     "metadata": {},
     "output_type": "execute_result"
    }
   ],
   "source": [
    "# list of categorical features \n",
    "cat_features = [col for col in X.columns if X[col].dtype == \"object\"]\n",
    "num_features = [col for col in X.columns if X[col].dtype in ['int64', 'float64']]\n",
    "X_num = final_df2[num_features]\n",
    "X_num.head(2)\n"
   ]
  },
  {
   "cell_type": "code",
   "execution_count": 38,
   "metadata": {},
   "outputs": [
    {
     "data": {
      "text/plain": [
       "order_id                  96536\n",
       "customer_id               96536\n",
       "order_status                  7\n",
       "review_id                 96339\n",
       "review_comment_title       4481\n",
       "review_comment_message    35186\n",
       "payment_type                  4\n",
       "product_id                32183\n",
       "seller_id                  3030\n",
       "customer_unique_id        93415\n",
       "customer_city              4093\n",
       "customer_state               27\n",
       "product_category_name        73\n",
       "seller_city                 604\n",
       "seller_state                 23\n",
       "dtype: int64"
      ]
     },
     "execution_count": 38,
     "metadata": {},
     "output_type": "execute_result"
    }
   ],
   "source": [
    "final_df2[cat_features].nunique()"
   ]
  },
  {
   "cell_type": "code",
   "execution_count": 34,
   "metadata": {},
   "outputs": [],
   "source": [
    "#system crashes\n",
    "#one_hot_encoded_data = pd.get_dummies(final_df2, columns = cat_features)"
   ]
  },
  {
   "cell_type": "code",
   "execution_count": null,
   "metadata": {},
   "outputs": [],
   "source": []
  },
  {
   "cell_type": "code",
   "execution_count": null,
   "metadata": {},
   "outputs": [
    {
     "ename": "NameError",
     "evalue": "name 'pd' is not defined",
     "output_type": "error",
     "traceback": [
      "\u001b[0;31m---------------------------------------------------------------------------\u001b[0m",
      "\u001b[0;31mNameError\u001b[0m                                 Traceback (most recent call last)",
      "Cell \u001b[0;32mIn[1], line 1\u001b[0m\n\u001b[0;32m----> 1\u001b[0m one_hot_encoded_data \u001b[38;5;241m=\u001b[39m \u001b[43mpd\u001b[49m\u001b[38;5;241m.\u001b[39mget_dummies(final_df2, columns \u001b[38;5;241m=\u001b[39m cat_features)\n\u001b[1;32m      2\u001b[0m \u001b[38;5;28mprint\u001b[39m(one_hot_encoded_data)\n",
      "\u001b[0;31mNameError\u001b[0m: name 'pd' is not defined"
     ]
    }
   ],
   "source": []
  },
  {
   "cell_type": "code",
   "execution_count": null,
   "metadata": {},
   "outputs": [
    {
     "ename": "ValueError",
     "evalue": "could not convert string to float: 'delivered'",
     "output_type": "error",
     "traceback": [
      "\u001b[0;31m---------------------------------------------------------------------------\u001b[0m",
      "\u001b[0;31mValueError\u001b[0m                                Traceback (most recent call last)",
      "Cell \u001b[0;32mIn[73], line 1\u001b[0m\n\u001b[0;32m----> 1\u001b[0m report \u001b[38;5;241m=\u001b[39m \u001b[43mevaluate_models\u001b[49m\u001b[43m(\u001b[49m\u001b[43mX\u001b[49m\u001b[43m,\u001b[49m\u001b[43m \u001b[49m\u001b[43my\u001b[49m\u001b[43m,\u001b[49m\u001b[43m \u001b[49m\u001b[43mmodels\u001b[49m\u001b[43m)\u001b[49m\n",
      "Cell \u001b[0;32mIn[53], line 17\u001b[0m, in \u001b[0;36mevaluate_models\u001b[0;34m(X, y, models)\u001b[0m\n\u001b[1;32m     15\u001b[0m \u001b[38;5;28;01mfor\u001b[39;00m i \u001b[38;5;129;01min\u001b[39;00m \u001b[38;5;28mrange\u001b[39m(\u001b[38;5;28mlen\u001b[39m(\u001b[38;5;28mlist\u001b[39m(models))):\n\u001b[1;32m     16\u001b[0m     model \u001b[38;5;241m=\u001b[39m \u001b[38;5;28mlist\u001b[39m(models\u001b[38;5;241m.\u001b[39mvalues())[i]\n\u001b[0;32m---> 17\u001b[0m     \u001b[43mmodel\u001b[49m\u001b[38;5;241;43m.\u001b[39;49m\u001b[43mfit\u001b[49m\u001b[43m(\u001b[49m\u001b[43mX_train\u001b[49m\u001b[43m,\u001b[49m\u001b[43m \u001b[49m\u001b[43my_train\u001b[49m\u001b[43m)\u001b[49m \u001b[38;5;66;03m# Train model\u001b[39;00m\n\u001b[1;32m     19\u001b[0m     \u001b[38;5;66;03m# Make predictions\u001b[39;00m\n\u001b[1;32m     20\u001b[0m     y_train_pred \u001b[38;5;241m=\u001b[39m model\u001b[38;5;241m.\u001b[39mpredict(X_train)\n",
      "File \u001b[0;32m~/.local/lib/python3.8/site-packages/sklearn/tree/_classes.py:889\u001b[0m, in \u001b[0;36mDecisionTreeClassifier.fit\u001b[0;34m(self, X, y, sample_weight, check_input)\u001b[0m\n\u001b[1;32m    859\u001b[0m \u001b[39mdef\u001b[39;00m \u001b[39mfit\u001b[39m(\u001b[39mself\u001b[39m, X, y, sample_weight\u001b[39m=\u001b[39m\u001b[39mNone\u001b[39;00m, check_input\u001b[39m=\u001b[39m\u001b[39mTrue\u001b[39;00m):\n\u001b[1;32m    860\u001b[0m \u001b[39m    \u001b[39m\u001b[39m\"\"\"Build a decision tree classifier from the training set (X, y).\u001b[39;00m\n\u001b[1;32m    861\u001b[0m \n\u001b[1;32m    862\u001b[0m \u001b[39m    Parameters\u001b[39;00m\n\u001b[0;32m   (...)\u001b[0m\n\u001b[1;32m    886\u001b[0m \u001b[39m        Fitted estimator.\u001b[39;00m\n\u001b[1;32m    887\u001b[0m \u001b[39m    \"\"\"\u001b[39;00m\n\u001b[0;32m--> 889\u001b[0m     \u001b[39msuper\u001b[39;49m()\u001b[39m.\u001b[39;49mfit(\n\u001b[1;32m    890\u001b[0m         X,\n\u001b[1;32m    891\u001b[0m         y,\n\u001b[1;32m    892\u001b[0m         sample_weight\u001b[39m=\u001b[39;49msample_weight,\n\u001b[1;32m    893\u001b[0m         check_input\u001b[39m=\u001b[39;49mcheck_input,\n\u001b[1;32m    894\u001b[0m     )\n\u001b[1;32m    895\u001b[0m     \u001b[39mreturn\u001b[39;00m \u001b[39mself\u001b[39m\n",
      "File \u001b[0;32m~/.local/lib/python3.8/site-packages/sklearn/tree/_classes.py:186\u001b[0m, in \u001b[0;36mBaseDecisionTree.fit\u001b[0;34m(self, X, y, sample_weight, check_input)\u001b[0m\n\u001b[1;32m    184\u001b[0m check_X_params \u001b[39m=\u001b[39m \u001b[39mdict\u001b[39m(dtype\u001b[39m=\u001b[39mDTYPE, accept_sparse\u001b[39m=\u001b[39m\u001b[39m\"\u001b[39m\u001b[39mcsc\u001b[39m\u001b[39m\"\u001b[39m)\n\u001b[1;32m    185\u001b[0m check_y_params \u001b[39m=\u001b[39m \u001b[39mdict\u001b[39m(ensure_2d\u001b[39m=\u001b[39m\u001b[39mFalse\u001b[39;00m, dtype\u001b[39m=\u001b[39m\u001b[39mNone\u001b[39;00m)\n\u001b[0;32m--> 186\u001b[0m X, y \u001b[39m=\u001b[39m \u001b[39mself\u001b[39;49m\u001b[39m.\u001b[39;49m_validate_data(\n\u001b[1;32m    187\u001b[0m     X, y, validate_separately\u001b[39m=\u001b[39;49m(check_X_params, check_y_params)\n\u001b[1;32m    188\u001b[0m )\n\u001b[1;32m    189\u001b[0m \u001b[39mif\u001b[39;00m issparse(X):\n\u001b[1;32m    190\u001b[0m     X\u001b[39m.\u001b[39msort_indices()\n",
      "File \u001b[0;32m~/.local/lib/python3.8/site-packages/sklearn/base.py:549\u001b[0m, in \u001b[0;36mBaseEstimator._validate_data\u001b[0;34m(self, X, y, reset, validate_separately, **check_params)\u001b[0m\n\u001b[1;32m    547\u001b[0m \u001b[39mif\u001b[39;00m \u001b[39m\"\u001b[39m\u001b[39mestimator\u001b[39m\u001b[39m\"\u001b[39m \u001b[39mnot\u001b[39;00m \u001b[39min\u001b[39;00m check_X_params:\n\u001b[1;32m    548\u001b[0m     check_X_params \u001b[39m=\u001b[39m {\u001b[39m*\u001b[39m\u001b[39m*\u001b[39mdefault_check_params, \u001b[39m*\u001b[39m\u001b[39m*\u001b[39mcheck_X_params}\n\u001b[0;32m--> 549\u001b[0m X \u001b[39m=\u001b[39m check_array(X, input_name\u001b[39m=\u001b[39;49m\u001b[39m\"\u001b[39;49m\u001b[39mX\u001b[39;49m\u001b[39m\"\u001b[39;49m, \u001b[39m*\u001b[39;49m\u001b[39m*\u001b[39;49mcheck_X_params)\n\u001b[1;32m    550\u001b[0m \u001b[39mif\u001b[39;00m \u001b[39m\"\u001b[39m\u001b[39mestimator\u001b[39m\u001b[39m\"\u001b[39m \u001b[39mnot\u001b[39;00m \u001b[39min\u001b[39;00m check_y_params:\n\u001b[1;32m    551\u001b[0m     check_y_params \u001b[39m=\u001b[39m {\u001b[39m*\u001b[39m\u001b[39m*\u001b[39mdefault_check_params, \u001b[39m*\u001b[39m\u001b[39m*\u001b[39mcheck_y_params}\n",
      "File \u001b[0;32m~/.local/lib/python3.8/site-packages/sklearn/utils/validation.py:877\u001b[0m, in \u001b[0;36mcheck_array\u001b[0;34m(array, accept_sparse, accept_large_sparse, dtype, order, copy, force_all_finite, ensure_2d, allow_nd, ensure_min_samples, ensure_min_features, estimator, input_name)\u001b[0m\n\u001b[1;32m    875\u001b[0m         array \u001b[39m=\u001b[39m xp\u001b[39m.\u001b[39mastype(array, dtype, copy\u001b[39m=\u001b[39m\u001b[39mFalse\u001b[39;00m)\n\u001b[1;32m    876\u001b[0m     \u001b[39melse\u001b[39;00m:\n\u001b[0;32m--> 877\u001b[0m         array \u001b[39m=\u001b[39m _asarray_with_order(array, order\u001b[39m=\u001b[39;49morder, dtype\u001b[39m=\u001b[39;49mdtype, xp\u001b[39m=\u001b[39;49mxp)\n\u001b[1;32m    878\u001b[0m \u001b[39mexcept\u001b[39;00m ComplexWarning \u001b[39mas\u001b[39;00m complex_warning:\n\u001b[1;32m    879\u001b[0m     \u001b[39mraise\u001b[39;00m \u001b[39mValueError\u001b[39;00m(\n\u001b[1;32m    880\u001b[0m         \u001b[39m\"\u001b[39m\u001b[39mComplex data not supported\u001b[39m\u001b[39m\\n\u001b[39;00m\u001b[39m{}\u001b[39;00m\u001b[39m\\n\u001b[39;00m\u001b[39m\"\u001b[39m\u001b[39m.\u001b[39mformat(array)\n\u001b[1;32m    881\u001b[0m     ) \u001b[39mfrom\u001b[39;00m \u001b[39mcomplex_warning\u001b[39;00m\n",
      "File \u001b[0;32m~/.local/lib/python3.8/site-packages/sklearn/utils/_array_api.py:185\u001b[0m, in \u001b[0;36m_asarray_with_order\u001b[0;34m(array, dtype, order, copy, xp)\u001b[0m\n\u001b[1;32m    182\u001b[0m     xp, _ \u001b[39m=\u001b[39m get_namespace(array)\n\u001b[1;32m    183\u001b[0m \u001b[39mif\u001b[39;00m xp\u001b[39m.\u001b[39m\u001b[39m__name__\u001b[39m \u001b[39min\u001b[39;00m {\u001b[39m\"\u001b[39m\u001b[39mnumpy\u001b[39m\u001b[39m\"\u001b[39m, \u001b[39m\"\u001b[39m\u001b[39mnumpy.array_api\u001b[39m\u001b[39m\"\u001b[39m}:\n\u001b[1;32m    184\u001b[0m     \u001b[39m# Use NumPy API to support order\u001b[39;00m\n\u001b[0;32m--> 185\u001b[0m     array \u001b[39m=\u001b[39m numpy\u001b[39m.\u001b[39;49masarray(array, order\u001b[39m=\u001b[39;49morder, dtype\u001b[39m=\u001b[39;49mdtype)\n\u001b[1;32m    186\u001b[0m     \u001b[39mreturn\u001b[39;00m xp\u001b[39m.\u001b[39masarray(array, copy\u001b[39m=\u001b[39mcopy)\n\u001b[1;32m    187\u001b[0m \u001b[39melse\u001b[39;00m:\n",
      "File \u001b[0;32m~/.local/lib/python3.8/site-packages/pandas/core/generic.py:2070\u001b[0m, in \u001b[0;36mNDFrame.__array__\u001b[0;34m(self, dtype)\u001b[0m\n\u001b[1;32m   2069\u001b[0m \u001b[39mdef\u001b[39;00m \u001b[39m__array__\u001b[39m(\u001b[39mself\u001b[39m, dtype: npt\u001b[39m.\u001b[39mDTypeLike \u001b[39m|\u001b[39m \u001b[39mNone\u001b[39;00m \u001b[39m=\u001b[39m \u001b[39mNone\u001b[39;00m) \u001b[39m-\u001b[39m\u001b[39m>\u001b[39m np\u001b[39m.\u001b[39mndarray:\n\u001b[0;32m-> 2070\u001b[0m     \u001b[39mreturn\u001b[39;00m np\u001b[39m.\u001b[39;49masarray(\u001b[39mself\u001b[39;49m\u001b[39m.\u001b[39;49m_values, dtype\u001b[39m=\u001b[39;49mdtype)\n",
      "\u001b[0;31mValueError\u001b[0m: could not convert string to float: 'delivered'"
     ]
    }
   ],
   "source": [
    "report = evaluate_models(X, y, models)"
   ]
  },
  {
   "cell_type": "code",
   "execution_count": null,
   "metadata": {},
   "outputs": [
    {
     "data": {
      "text/plain": [
       "'\\n# Fit with robust scaler for KNN best K-selection experminet\\n#robustscaler = RobustScaler()\\nX1 = robustscaler.fit_transform(X)\\n# not scaling y as it is considered classes and has only 5 values\\n\\n# not scaling as some of the features are object\\n'"
      ]
     },
     "execution_count": 47,
     "metadata": {},
     "output_type": "execute_result"
    }
   ],
   "source": [
    "\"\"\"\n",
    "# Fit with robust scaler for KNN best K-selection experminet\n",
    "#robustscaler = RobustScaler()\n",
    "X1 = robustscaler.fit_transform(X)\n",
    "# not scaling y as it is considered classes and has only 5 values\n",
    "\n",
    "# not scaling as some of the features are object\n",
    "\"\"\""
   ]
  },
  {
   "cell_type": "code",
   "execution_count": null,
   "metadata": {},
   "outputs": [],
   "source": [
    "# we have already cleaned the NaN values, if not we can use the following method\n",
    "\"\"\"\n",
    "# Finding the optimal n_neighbour value for KNN imputer\n",
    "\n",
    "results=[]\n",
    "# define imputer\n",
    "imputer = KNNImputer(n_neighbors=5, weights='uniform', metric='nan_euclidean')\n",
    "strategies = [str(i) for i in [1,3,5,7,9]]\n",
    "for s in strategies:\n",
    "    pipeline = Pipeline(steps=[('i', KNNImputer(n_neighbors=int(s))), ('m', LogisticRegression())])\n",
    "    scores = cross_val_score(pipeline, X1, y, scoring='accuracy', cv=2, n_jobs=-1)\n",
    "    results.append(scores)\n",
    "    print('n_neighbors= %s || accuracy (%.4f)' % (s , mean(scores)))\n",
    "\n",
    "\"\"\""
   ]
  },
  {
   "cell_type": "code",
   "execution_count": null,
   "metadata": {},
   "outputs": [],
   "source": [
    "# we have already cleaned the NaN values, if not we can use the following method\n",
    "\"\"\"\n",
    "# the best accuracy was found for n_neighbors = 3\n",
    "num_features = X.select_dtypes(exclude=\"object\").columns\n",
    "\n",
    "# Fit the KNN imputer with selected K-value\n",
    "knn_pipeline = Pipeline(steps=[\n",
    "    ('imputer', KNNImputer(n_neighbors=3)),\n",
    "    ('RobustScaler', RobustScaler())\n",
    "])\n",
    "\n",
    "# X after filling missing values using KNNImputer\n",
    "X_knn =knn_pipeline.fit_transform(X)\n",
    "\"\"\""
   ]
  },
  {
   "cell_type": "code",
   "execution_count": null,
   "metadata": {},
   "outputs": [
    {
     "data": {
      "text/plain": [
       "'\\nHandling Imbalanced data\\nSMOTE+TOMEK is one of such a hybrid technique that aims to clean overlapping data points for each of the classes distributed in sample space.\\n\\nThis method combines the SMOTE ability to generate synthetic data for minority class and Tomek Links ability to remove the data that are identified as Tomek links from the majority class\\n\\nTo add new data of minority class\\n\\nChoose random data from the minority class.\\nCalculate the distance between the random data and its k nearest neighbors.\\nMultiply the difference with a random number between 0 and 1, then add the result to the minority class as a synthetic sample.\\nRepeat step number 2–3 until the desired proportion of minority class is met.\\nTo remove the tomek links of the majority class\\nChoose random data from the majority class.\\nIf the random data’s nearest neighbor is the data from the minority class (i.e. create the Tomek Link), then remove the Tomek Link.\\nThis is method instead of adding duplicate data it synthesises the new data based on the already avalialble classes. Hence we choose this as our imputer method for this problem.\\n'"
      ]
     },
     "execution_count": 48,
     "metadata": {},
     "output_type": "execute_result"
    }
   ],
   "source": [
    "# Data is imbalanced as see in EDA\n",
    "# SMOTE+TOMEK is one of such a hybrid technique that aims to clean overlapping data points for each of the classes distributed in sample space.\n",
    "\"\"\"\n",
    "Handling Imbalanced data\n",
    "SMOTE+TOMEK is one of such a hybrid technique that aims to clean overlapping data points for each of the classes distributed in sample space.\n",
    "\n",
    "This method combines the SMOTE ability to generate synthetic data for minority class and Tomek Links ability to remove the data that are identified as Tomek links from the majority class\n",
    "\n",
    "To add new data of minority class\n",
    "\n",
    "Choose random data from the minority class.\n",
    "Calculate the distance between the random data and its k nearest neighbors.\n",
    "Multiply the difference with a random number between 0 and 1, then add the result to the minority class as a synthetic sample.\n",
    "Repeat step number 2–3 until the desired proportion of minority class is met.\n",
    "To remove the tomek links of the majority class\n",
    "Choose random data from the majority class.\n",
    "If the random data’s nearest neighbor is the data from the minority class (i.e. create the Tomek Link), then remove the Tomek Link.\n",
    "This is method instead of adding duplicate data it synthesises the new data based on the already avalialble classes. Hence we choose this as our imputer method for this problem.\n",
    "\"\"\""
   ]
  },
  {
   "cell_type": "code",
   "execution_count": null,
   "metadata": {},
   "outputs": [
    {
     "data": {
      "text/plain": [
       "\"\\nfrom imblearn.combine import SMOTETomek\\n\\n# Resampling the minority class. The strategy can be changed as required.\\nsmt = SMOTETomek(random_state=42,sampling_strategy='minority',n_jobs=-1)\\n# Fit the model to generate the data.\\nX_res, y_res = smt.fit_resample(X, y)\\n\""
      ]
     },
     "execution_count": 50,
     "metadata": {},
     "output_type": "execute_result"
    }
   ],
   "source": [
    "# remove imbalance using smote-tomek\n",
    "\"\"\"\n",
    "from imblearn.combine import SMOTETomek\n",
    "\n",
    "# Resampling the minority class. The strategy can be changed as required.\n",
    "smt = SMOTETomek(random_state=42,sampling_strategy='minority',n_jobs=-1)\n",
    "# Fit the model to generate the data.\n",
    "X_res, y_res = smt.fit_resample(X, y)\n",
    "\"\"\""
   ]
  },
  {
   "cell_type": "code",
   "execution_count": null,
   "metadata": {},
   "outputs": [],
   "source": [
    "# perform scaling, smote-tomek and check \n",
    "# num_features = X.select_dtypes(exclude=\"object\").columns"
   ]
  }
 ],
 "metadata": {
  "kernelspec": {
   "display_name": "Python 3.8.10 64-bit",
   "language": "python",
   "name": "python3"
  },
  "language_info": {
   "codemirror_mode": {
    "name": "ipython",
    "version": 3
   },
   "file_extension": ".py",
   "mimetype": "text/x-python",
   "name": "python",
   "nbconvert_exporter": "python",
   "pygments_lexer": "ipython3",
   "version": "3.8.10"
  },
  "orig_nbformat": 4,
  "vscode": {
   "interpreter": {
    "hash": "e7370f93d1d0cde622a1f8e1c04877d8463912d04d973331ad4851f04de6915a"
   }
  }
 },
 "nbformat": 4,
 "nbformat_minor": 2
}
